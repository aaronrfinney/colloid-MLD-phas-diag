{
 "cells": [
  {
   "cell_type": "markdown",
   "metadata": {},
   "source": [
    "# Colloid phase diagram "
   ]
  },
  {
   "cell_type": "markdown",
   "metadata": {},
   "source": [
    "### Import necessary libraries"
   ]
  },
  {
   "cell_type": "code",
   "execution_count": 1,
   "metadata": {},
   "outputs": [
    {
     "data": {
      "application/vnd.jupyter.widget-view+json": {
       "model_id": "b75706ce1c0f454686b379a27d506992",
       "version_major": 2,
       "version_minor": 0
      },
      "text/plain": []
     },
     "metadata": {},
     "output_type": "display_data"
    }
   ],
   "source": [
    "import MDAnalysis as mda\n",
    "import nglview as nv\n",
    "\n",
    "import pandas as pd\n",
    "import numpy as np\n",
    "import matplotlib.pyplot as plt\n",
    "%matplotlib inline\n",
    "##%matplotlib qt\n",
    "from mpl_toolkits import mplot3d\n",
    "\n",
    "import scipy.spatial.distance as ssd\n",
    "from scipy import constants\n",
    "from scipy import interpolate\n",
    "from scipy.signal import savgol_filter\n",
    "from scipy import stats\n",
    "from scipy.linalg import eig, inv\n",
    "from scipy.cluster.hierarchy import dendrogram, linkage\n",
    "\n",
    "from sklearn.neighbors import KernelDensity\n",
    "\n",
    "import networkx as nx\n",
    "from networkx.drawing.nx_agraph import graphviz_layout as layout\n",
    "\n",
    "import seaborn as sns\n",
    "\n",
    "import time\n",
    "import random\n",
    "\n",
    "import subprocess"
   ]
  },
  {
   "cell_type": "code",
   "execution_count": 2,
   "metadata": {},
   "outputs": [],
   "source": [
    "from MDAnalysis.analysis.distances import contact_matrix\n",
    "import MDAnalysis.transformations as trans"
   ]
  },
  {
   "cell_type": "code",
   "execution_count": 3,
   "metadata": {},
   "outputs": [
    {
     "name": "stdout",
     "output_type": "stream",
     "text": [
      "2.1.0\n",
      "<module 'MDAnalysis.lib' from '/home/aaron/Packages/anaconda3/lib/python3.7/site-packages/MDAnalysis/lib/__init__.py'>\n",
      "3.0.3\n",
      "2.4\n"
     ]
    }
   ],
   "source": [
    "print(mda.__version__)\n",
    "print(mda.lib)\n",
    "print(nv.__version__)\n",
    "print(nx.__version__)"
   ]
  },
  {
   "cell_type": "markdown",
   "metadata": {},
   "source": [
    "## Plot parameters "
   ]
  },
  {
   "cell_type": "code",
   "execution_count": 4,
   "metadata": {},
   "outputs": [],
   "source": [
    "plt.rcParams.update({\n",
    "    \"text.usetex\": False,\n",
    "    \"font.family\": \"serif\",\n",
    "    \"font.serif\": [\"computer modern roman\"],\n",
    "    \"font.size\": 14})\n",
    "plw = 0.6\n",
    "pcs = 3\n",
    "pms = 3\n",
    "bfillc = [0.9,0.9,0.9]\n",
    "plt.rcParams['axes.linewidth'] = plw\n",
    "plt.rcParams['xtick.top'] = True\n",
    "plt.rcParams['xtick.direction'] = 'in'\n",
    "plt.rcParams['xtick.major.width'] = plw\n",
    "plt.rcParams['xtick.minor.width'] = plw\n",
    "plt.rcParams['xtick.minor.visible'] = True\n",
    "plt.rcParams['xtick.major.size'] = 4.5\n",
    "plt.rcParams['ytick.right'] = True\n",
    "plt.rcParams['ytick.direction'] = 'in'\n",
    "plt.rcParams['ytick.major.width'] = plw\n",
    "plt.rcParams['ytick.minor.width'] = plw\n",
    "plt.rcParams['ytick.minor.visible'] = True\n",
    "plt.rcParams['ytick.major.size'] = 5\n",
    "plt.rcParams[\"figure.figsize\"] = (5,4)"
   ]
  },
  {
   "cell_type": "markdown",
   "metadata": {},
   "source": [
    "## Define functions"
   ]
  },
  {
   "cell_type": "code",
   "execution_count": 5,
   "metadata": {},
   "outputs": [],
   "source": [
    "def minimum_image(point,cell):\n",
    "    \n",
    "    rc = 1.0/cell\n",
    "    point = point - cell*np.rint(rc*point)\n",
    "    return(point)"
   ]
  },
  {
   "cell_type": "code",
   "execution_count": 6,
   "metadata": {},
   "outputs": [],
   "source": [
    "def centre_of_mass(positions,masses):\n",
    "    com = np.zeros(3)    \n",
    "    for i in range(0,len(positions)):\n",
    "        com += positions[i]*masses[i]\n",
    "        \n",
    "    return(com/np.sum(masses))"
   ]
  },
  {
   "cell_type": "code",
   "execution_count": 7,
   "metadata": {},
   "outputs": [],
   "source": [
    "def calculate_gyration_tensor(positions):\n",
    "    gyration_tensor = np.zeros((3, 3))\n",
    "    for i in range(0,len(positions)):\n",
    "        gyration_tensor += np.outer(positions[i], positions[i])\n",
    "    return gyration_tensor / len(positions)"
   ]
  },
  {
   "cell_type": "markdown",
   "metadata": {},
   "source": [
    "# Set the working directory and directory variables"
   ]
  },
  {
   "cell_type": "code",
   "execution_count": 8,
   "metadata": {},
   "outputs": [],
   "source": [
    "wdir = \"./tmp-2.00/\"\n",
    "tdelta = 1e3"
   ]
  },
  {
   "cell_type": "markdown",
   "metadata": {},
   "source": [
    "# Set the cell parameters "
   ]
  },
  {
   "cell_type": "code",
   "execution_count": 9,
   "metadata": {},
   "outputs": [],
   "source": [
    "lx = 92.831777\n",
    "Vol = lx**3"
   ]
  },
  {
   "cell_type": "markdown",
   "metadata": {},
   "source": [
    "# Load the trajectory"
   ]
  },
  {
   "cell_type": "code",
   "execution_count": 10,
   "metadata": {
    "scrolled": true
   },
   "outputs": [
    {
     "name": "stderr",
     "output_type": "stream",
     "text": [
      "/home/aaron/Packages/anaconda3/lib/python3.7/site-packages/MDAnalysis/topology/guessers.py:146: UserWarning: Failed to guess the mass for the following atom types: 1\n",
      "  warnings.warn(\"Failed to guess the mass for the following atom types: {}\".format(atom_type))\n"
     ]
    },
    {
     "name": "stdout",
     "output_type": "stream",
     "text": [
      "<XYZReader ./tmp-2.00/dump.3Dcolloid.xyz with 20001 frames of 388 atoms>\n"
     ]
    }
   ],
   "source": [
    "file = wdir + \"dump.3Dcolloid.xyz\"\n",
    "u = mda.Universe(file)\n",
    "print(u.trajectory)"
   ]
  },
  {
   "cell_type": "code",
   "execution_count": 11,
   "metadata": {},
   "outputs": [
    {
     "name": "stdout",
     "output_type": "stream",
     "text": [
      "388 0.0004849999948630937\n"
     ]
    }
   ],
   "source": [
    "particles = u.select_atoms('type 1')\n",
    "particles.masses = 1\n",
    "\n",
    "num_particles = particles.n_atoms\n",
    "uniform_density = num_particles/Vol\n",
    "print(num_particles,uniform_density)"
   ]
  },
  {
   "cell_type": "markdown",
   "metadata": {},
   "source": [
    "## Get the energy time series"
   ]
  },
  {
   "cell_type": "code",
   "execution_count": 12,
   "metadata": {},
   "outputs": [],
   "source": [
    "filter_window = 1001"
   ]
  },
  {
   "cell_type": "code",
   "execution_count": 13,
   "metadata": {},
   "outputs": [
    {
     "data": {
      "text/plain": [
       "[<matplotlib.lines.Line2D at 0x7f5e20549748>]"
      ]
     },
     "execution_count": 13,
     "metadata": {},
     "output_type": "execute_result"
    },
    {
     "name": "stderr",
     "output_type": "stream",
     "text": [
      "findfont: Font family ['serif'] not found. Falling back to DejaVu Sans.\n"
     ]
    },
    {
     "data": {
      "image/png": "[encoded data removed]",
      "text/plain": [
       "<Figure size 360x288 with 1 Axes>"
      ]
     },
     "metadata": {
      "needs_background": "light"
     },
     "output_type": "display_data"
    }
   ],
   "source": [
    "# Load the data and plot with a filter\n",
    "file = wdir + \"energy.dat\"\n",
    "t_ene = np.loadtxt(file)\n",
    "plt.plot(t_ene[:,0],t_ene[:,1])\n",
    "\n",
    "flt_t = savgol_filter(t_ene[:,0],filter_window,1)\n",
    "flt_ene = savgol_filter(t_ene[:,1],filter_window,1,deriv=0)\n",
    "plt.plot(flt_t,flt_ene)\n",
    "plt.plot([0,2e7],[-21,-21],color='red')\n",
    "#plt.xlim(0,1e7)"
   ]
  },
  {
   "cell_type": "markdown",
   "metadata": {},
   "source": [
    "### Set the time window and check"
   ]
  },
  {
   "cell_type": "code",
   "execution_count": 33,
   "metadata": {},
   "outputs": [],
   "source": [
    "t0 = 0.75e7\n",
    "tf = 1.25e7"
   ]
  },
  {
   "cell_type": "code",
   "execution_count": 34,
   "metadata": {},
   "outputs": [],
   "source": [
    "bin_t0 = int(t0/tdelta)\n",
    "bin_tf = int(tf/tdelta)"
   ]
  },
  {
   "cell_type": "code",
   "execution_count": 35,
   "metadata": {},
   "outputs": [
    {
     "data": {
      "text/plain": [
       "[<matplotlib.lines.Line2D at 0x7f5e1df14e80>]"
      ]
     },
     "execution_count": 35,
     "metadata": {},
     "output_type": "execute_result"
    },
    {
     "data": {
      "image/png": "[encoded data removed]",
      "text/plain": [
       "<Figure size 360x288 with 1 Axes>"
      ]
     },
     "metadata": {
      "needs_background": "light"
     },
     "output_type": "display_data"
    }
   ],
   "source": [
    "plt.plot(flt_t,flt_ene)\n",
    "plt.plot([t0,t0],[-25,0])\n",
    "plt.plot([tf,tf],[-25,0])\n",
    "plt.plot([0,2e7],[-21,-21],color='red')"
   ]
  },
  {
   "cell_type": "code",
   "execution_count": 36,
   "metadata": {},
   "outputs": [
    {
     "data": {
      "text/plain": [
       "[<matplotlib.lines.Line2D at 0x7f5e1ddff588>]"
      ]
     },
     "execution_count": 36,
     "metadata": {},
     "output_type": "execute_result"
    },
    {
     "data": {
      "image/png": "[encoded data removed]",
      "text/plain": [
       "<Figure size 360x288 with 1 Axes>"
      ]
     },
     "metadata": {
      "needs_background": "light"
     },
     "output_type": "display_data"
    }
   ],
   "source": [
    "deriv_flt_ene = savgol_filter(t_ene[:,1],filter_window,1,deriv=1)\n",
    "plt.plot(flt_t,deriv_flt_ene)\n",
    "plt.plot([t0,t0],[-0.01,0.01])\n",
    "plt.plot([tf,tf],[-0.01,0.01])"
   ]
  },
  {
   "cell_type": "markdown",
   "metadata": {},
   "source": [
    "# Time Series Analysis of the Droplet"
   ]
  },
  {
   "cell_type": "code",
   "execution_count": 37,
   "metadata": {},
   "outputs": [],
   "source": [
    "# Set the cutoff for first sphere coordination\n",
    "trunc_distance = 7.3#irdf.bins[truncation] \n",
    "\n",
    "# Density profile arrays\n",
    "delta = 0.4\n",
    "maxd = lx*2\n",
    "nbins = np.int(maxd/delta)\n",
    "rad_dist_dropl = np.zeros(nbins)\n",
    "rad_dist_cryst = np.zeros(nbins)\n",
    "\n",
    "# Time series lists\n",
    "time = [] # simulation time\n",
    "ncls = [] # number of clusters\n",
    "clsz = [] # cluster sizes\n",
    "dsiz = [] # droplet size\n",
    "vsiz = [] # vapour size\n",
    "drgy = [] # droplet radius of gyration\n",
    "dasp = [] # droplet asphericity\n",
    "vden = [] # vapour phase density\n",
    "\n",
    "\n",
    "frames = 0"
   ]
  },
  {
   "cell_type": "code",
   "execution_count": 38,
   "metadata": {},
   "outputs": [
    {
     "name": "stdout",
     "output_type": "stream",
     "text": [
      "< Timestep 7500 with unit cell dimensions [92.83178 92.83178 92.83178 90.      90.      90.     ] >\n",
      "< Timestep 7510 with unit cell dimensions [92.83178 92.83178 92.83178 90.      90.      90.     ] >\n",
      "< Timestep 7520 with unit cell dimensions [92.83178 92.83178 92.83178 90.      90.      90.     ] >\n",
      "< Timestep 7530 with unit cell dimensions [92.83178 92.83178 92.83178 90.      90.      90.     ] >\n",
      "< Timestep 7540 with unit cell dimensions [92.83178 92.83178 92.83178 90.      90.      90.     ] >\n",
      "< Timestep 7550 with unit cell dimensions [92.83178 92.83178 92.83178 90.      90.      90.     ] >\n",
      "< Timestep 7560 with unit cell dimensions [92.83178 92.83178 92.83178 90.      90.      90.     ] >\n",
      "< Timestep 7570 with unit cell dimensions [92.83178 92.83178 92.83178 90.      90.      90.     ] >\n",
      "< Timestep 7580 with unit cell dimensions [92.83178 92.83178 92.83178 90.      90.      90.     ] >\n",
      "< Timestep 7590 with unit cell dimensions [92.83178 92.83178 92.83178 90.      90.      90.     ] >\n",
      "< Timestep 7600 with unit cell dimensions [92.83178 92.83178 92.83178 90.      90.      90.     ] >\n",
      "< Timestep 7610 with unit cell dimensions [92.83178 92.83178 92.83178 90.      90.      90.     ] >\n",
      "< Timestep 7620 with unit cell dimensions [92.83178 92.83178 92.83178 90.      90.      90.     ] >\n",
      "< Timestep 7630 with unit cell dimensions [92.83178 92.83178 92.83178 90.      90.      90.     ] >\n",
      "< Timestep 7640 with unit cell dimensions [92.83178 92.83178 92.83178 90.      90.      90.     ] >\n",
      "< Timestep 7650 with unit cell dimensions [92.83178 92.83178 92.83178 90.      90.      90.     ] >\n",
      "< Timestep 7660 with unit cell dimensions [92.83178 92.83178 92.83178 90.      90.      90.     ] >\n",
      "< Timestep 7670 with unit cell dimensions [92.83178 92.83178 92.83178 90.      90.      90.     ] >\n",
      "< Timestep 7680 with unit cell dimensions [92.83178 92.83178 92.83178 90.      90.      90.     ] >\n",
      "< Timestep 7690 with unit cell dimensions [92.83178 92.83178 92.83178 90.      90.      90.     ] >\n",
      "< Timestep 7700 with unit cell dimensions [92.83178 92.83178 92.83178 90.      90.      90.     ] >\n",
      "< Timestep 7710 with unit cell dimensions [92.83178 92.83178 92.83178 90.      90.      90.     ] >\n",
      "< Timestep 7720 with unit cell dimensions [92.83178 92.83178 92.83178 90.      90.      90.     ] >\n",
      "< Timestep 7730 with unit cell dimensions [92.83178 92.83178 92.83178 90.      90.      90.     ] >\n",
      "< Timestep 7740 with unit cell dimensions [92.83178 92.83178 92.83178 90.      90.      90.     ] >\n",
      "< Timestep 7750 with unit cell dimensions [92.83178 92.83178 92.83178 90.      90.      90.     ] >\n",
      "< Timestep 7760 with unit cell dimensions [92.83178 92.83178 92.83178 90.      90.      90.     ] >\n",
      "< Timestep 7770 with unit cell dimensions [92.83178 92.83178 92.83178 90.      90.      90.     ] >\n",
      "< Timestep 7780 with unit cell dimensions [92.83178 92.83178 92.83178 90.      90.      90.     ] >\n",
      "< Timestep 7790 with unit cell dimensions [92.83178 92.83178 92.83178 90.      90.      90.     ] >\n",
      "< Timestep 7800 with unit cell dimensions [92.83178 92.83178 92.83178 90.      90.      90.     ] >\n",
      "< Timestep 7810 with unit cell dimensions [92.83178 92.83178 92.83178 90.      90.      90.     ] >\n",
      "< Timestep 7820 with unit cell dimensions [92.83178 92.83178 92.83178 90.      90.      90.     ] >\n",
      "< Timestep 7830 with unit cell dimensions [92.83178 92.83178 92.83178 90.      90.      90.     ] >\n",
      "< Timestep 7840 with unit cell dimensions [92.83178 92.83178 92.83178 90.      90.      90.     ] >\n",
      "< Timestep 7850 with unit cell dimensions [92.83178 92.83178 92.83178 90.      90.      90.     ] >\n",
      "< Timestep 7860 with unit cell dimensions [92.83178 92.83178 92.83178 90.      90.      90.     ] >\n",
      "< Timestep 7870 with unit cell dimensions [92.83178 92.83178 92.83178 90.      90.      90.     ] >\n",
      "< Timestep 7880 with unit cell dimensions [92.83178 92.83178 92.83178 90.      90.      90.     ] >\n",
      "< Timestep 7890 with unit cell dimensions [92.83178 92.83178 92.83178 90.      90.      90.     ] >\n",
      "< Timestep 7900 with unit cell dimensions [92.83178 92.83178 92.83178 90.      90.      90.     ] >\n",
      "< Timestep 7910 with unit cell dimensions [92.83178 92.83178 92.83178 90.      90.      90.     ] >\n",
      "< Timestep 7920 with unit cell dimensions [92.83178 92.83178 92.83178 90.      90.      90.     ] >\n",
      "< Timestep 7930 with unit cell dimensions [92.83178 92.83178 92.83178 90.      90.      90.     ] >\n",
      "< Timestep 7940 with unit cell dimensions [92.83178 92.83178 92.83178 90.      90.      90.     ] >\n",
      "< Timestep 7950 with unit cell dimensions [92.83178 92.83178 92.83178 90.      90.      90.     ] >\n",
      "< Timestep 7960 with unit cell dimensions [92.83178 92.83178 92.83178 90.      90.      90.     ] >\n",
      "< Timestep 7970 with unit cell dimensions [92.83178 92.83178 92.83178 90.      90.      90.     ] >\n",
      "< Timestep 7980 with unit cell dimensions [92.83178 92.83178 92.83178 90.      90.      90.     ] >\n",
      "< Timestep 7990 with unit cell dimensions [92.83178 92.83178 92.83178 90.      90.      90.     ] >\n",
      "< Timestep 8000 with unit cell dimensions [92.83178 92.83178 92.83178 90.      90.      90.     ] >\n",
      "< Timestep 8010 with unit cell dimensions [92.83178 92.83178 92.83178 90.      90.      90.     ] >\n",
      "< Timestep 8020 with unit cell dimensions [92.83178 92.83178 92.83178 90.      90.      90.     ] >\n",
      "< Timestep 8030 with unit cell dimensions [92.83178 92.83178 92.83178 90.      90.      90.     ] >\n",
      "< Timestep 8040 with unit cell dimensions [92.83178 92.83178 92.83178 90.      90.      90.     ] >\n",
      "< Timestep 8050 with unit cell dimensions [92.83178 92.83178 92.83178 90.      90.      90.     ] >\n",
      "< Timestep 8060 with unit cell dimensions [92.83178 92.83178 92.83178 90.      90.      90.     ] >\n",
      "< Timestep 8070 with unit cell dimensions [92.83178 92.83178 92.83178 90.      90.      90.     ] >\n",
      "< Timestep 8080 with unit cell dimensions [92.83178 92.83178 92.83178 90.      90.      90.     ] >\n",
      "< Timestep 8090 with unit cell dimensions [92.83178 92.83178 92.83178 90.      90.      90.     ] >\n",
      "< Timestep 8100 with unit cell dimensions [92.83178 92.83178 92.83178 90.      90.      90.     ] >\n",
      "< Timestep 8110 with unit cell dimensions [92.83178 92.83178 92.83178 90.      90.      90.     ] >\n",
      "< Timestep 8120 with unit cell dimensions [92.83178 92.83178 92.83178 90.      90.      90.     ] >\n",
      "< Timestep 8130 with unit cell dimensions [92.83178 92.83178 92.83178 90.      90.      90.     ] >\n",
      "< Timestep 8140 with unit cell dimensions [92.83178 92.83178 92.83178 90.      90.      90.     ] >\n",
      "< Timestep 8150 with unit cell dimensions [92.83178 92.83178 92.83178 90.      90.      90.     ] >\n",
      "< Timestep 8160 with unit cell dimensions [92.83178 92.83178 92.83178 90.      90.      90.     ] >\n",
      "< Timestep 8170 with unit cell dimensions [92.83178 92.83178 92.83178 90.      90.      90.     ] >\n",
      "< Timestep 8180 with unit cell dimensions [92.83178 92.83178 92.83178 90.      90.      90.     ] >\n",
      "< Timestep 8190 with unit cell dimensions [92.83178 92.83178 92.83178 90.      90.      90.     ] >\n",
      "< Timestep 8200 with unit cell dimensions [92.83178 92.83178 92.83178 90.      90.      90.     ] >\n",
      "< Timestep 8210 with unit cell dimensions [92.83178 92.83178 92.83178 90.      90.      90.     ] >\n",
      "< Timestep 8220 with unit cell dimensions [92.83178 92.83178 92.83178 90.      90.      90.     ] >\n",
      "< Timestep 8230 with unit cell dimensions [92.83178 92.83178 92.83178 90.      90.      90.     ] >\n",
      "< Timestep 8240 with unit cell dimensions [92.83178 92.83178 92.83178 90.      90.      90.     ] >\n",
      "< Timestep 8250 with unit cell dimensions [92.83178 92.83178 92.83178 90.      90.      90.     ] >\n",
      "< Timestep 8260 with unit cell dimensions [92.83178 92.83178 92.83178 90.      90.      90.     ] >\n",
      "< Timestep 8270 with unit cell dimensions [92.83178 92.83178 92.83178 90.      90.      90.     ] >\n",
      "< Timestep 8280 with unit cell dimensions [92.83178 92.83178 92.83178 90.      90.      90.     ] >\n",
      "< Timestep 8290 with unit cell dimensions [92.83178 92.83178 92.83178 90.      90.      90.     ] >\n",
      "< Timestep 8300 with unit cell dimensions [92.83178 92.83178 92.83178 90.      90.      90.     ] >\n",
      "< Timestep 8310 with unit cell dimensions [92.83178 92.83178 92.83178 90.      90.      90.     ] >\n",
      "< Timestep 8320 with unit cell dimensions [92.83178 92.83178 92.83178 90.      90.      90.     ] >\n"
     ]
    },
    {
     "name": "stdout",
     "output_type": "stream",
     "text": [
      "< Timestep 8330 with unit cell dimensions [92.83178 92.83178 92.83178 90.      90.      90.     ] >\n",
      "< Timestep 8340 with unit cell dimensions [92.83178 92.83178 92.83178 90.      90.      90.     ] >\n",
      "< Timestep 8350 with unit cell dimensions [92.83178 92.83178 92.83178 90.      90.      90.     ] >\n",
      "< Timestep 8360 with unit cell dimensions [92.83178 92.83178 92.83178 90.      90.      90.     ] >\n",
      "< Timestep 8370 with unit cell dimensions [92.83178 92.83178 92.83178 90.      90.      90.     ] >\n",
      "< Timestep 8380 with unit cell dimensions [92.83178 92.83178 92.83178 90.      90.      90.     ] >\n",
      "< Timestep 8390 with unit cell dimensions [92.83178 92.83178 92.83178 90.      90.      90.     ] >\n",
      "< Timestep 8400 with unit cell dimensions [92.83178 92.83178 92.83178 90.      90.      90.     ] >\n",
      "< Timestep 8410 with unit cell dimensions [92.83178 92.83178 92.83178 90.      90.      90.     ] >\n",
      "< Timestep 8420 with unit cell dimensions [92.83178 92.83178 92.83178 90.      90.      90.     ] >\n",
      "< Timestep 8430 with unit cell dimensions [92.83178 92.83178 92.83178 90.      90.      90.     ] >\n",
      "< Timestep 8440 with unit cell dimensions [92.83178 92.83178 92.83178 90.      90.      90.     ] >\n",
      "< Timestep 8450 with unit cell dimensions [92.83178 92.83178 92.83178 90.      90.      90.     ] >\n",
      "< Timestep 8460 with unit cell dimensions [92.83178 92.83178 92.83178 90.      90.      90.     ] >\n",
      "< Timestep 8470 with unit cell dimensions [92.83178 92.83178 92.83178 90.      90.      90.     ] >\n",
      "< Timestep 8480 with unit cell dimensions [92.83178 92.83178 92.83178 90.      90.      90.     ] >\n",
      "< Timestep 8490 with unit cell dimensions [92.83178 92.83178 92.83178 90.      90.      90.     ] >\n",
      "< Timestep 8500 with unit cell dimensions [92.83178 92.83178 92.83178 90.      90.      90.     ] >\n",
      "< Timestep 8510 with unit cell dimensions [92.83178 92.83178 92.83178 90.      90.      90.     ] >\n",
      "< Timestep 8520 with unit cell dimensions [92.83178 92.83178 92.83178 90.      90.      90.     ] >\n",
      "< Timestep 8530 with unit cell dimensions [92.83178 92.83178 92.83178 90.      90.      90.     ] >\n",
      "< Timestep 8540 with unit cell dimensions [92.83178 92.83178 92.83178 90.      90.      90.     ] >\n",
      "< Timestep 8550 with unit cell dimensions [92.83178 92.83178 92.83178 90.      90.      90.     ] >\n",
      "< Timestep 8560 with unit cell dimensions [92.83178 92.83178 92.83178 90.      90.      90.     ] >\n",
      "< Timestep 8570 with unit cell dimensions [92.83178 92.83178 92.83178 90.      90.      90.     ] >\n",
      "< Timestep 8580 with unit cell dimensions [92.83178 92.83178 92.83178 90.      90.      90.     ] >\n",
      "< Timestep 8590 with unit cell dimensions [92.83178 92.83178 92.83178 90.      90.      90.     ] >\n",
      "< Timestep 8600 with unit cell dimensions [92.83178 92.83178 92.83178 90.      90.      90.     ] >\n",
      "< Timestep 8610 with unit cell dimensions [92.83178 92.83178 92.83178 90.      90.      90.     ] >\n",
      "< Timestep 8620 with unit cell dimensions [92.83178 92.83178 92.83178 90.      90.      90.     ] >\n",
      "< Timestep 8630 with unit cell dimensions [92.83178 92.83178 92.83178 90.      90.      90.     ] >\n",
      "< Timestep 8640 with unit cell dimensions [92.83178 92.83178 92.83178 90.      90.      90.     ] >\n",
      "< Timestep 8650 with unit cell dimensions [92.83178 92.83178 92.83178 90.      90.      90.     ] >\n",
      "< Timestep 8660 with unit cell dimensions [92.83178 92.83178 92.83178 90.      90.      90.     ] >\n",
      "< Timestep 8670 with unit cell dimensions [92.83178 92.83178 92.83178 90.      90.      90.     ] >\n",
      "< Timestep 8680 with unit cell dimensions [92.83178 92.83178 92.83178 90.      90.      90.     ] >\n",
      "< Timestep 8690 with unit cell dimensions [92.83178 92.83178 92.83178 90.      90.      90.     ] >\n",
      "< Timestep 8700 with unit cell dimensions [92.83178 92.83178 92.83178 90.      90.      90.     ] >\n",
      "< Timestep 8710 with unit cell dimensions [92.83178 92.83178 92.83178 90.      90.      90.     ] >\n",
      "< Timestep 8720 with unit cell dimensions [92.83178 92.83178 92.83178 90.      90.      90.     ] >\n",
      "< Timestep 8730 with unit cell dimensions [92.83178 92.83178 92.83178 90.      90.      90.     ] >\n",
      "< Timestep 8740 with unit cell dimensions [92.83178 92.83178 92.83178 90.      90.      90.     ] >\n",
      "< Timestep 8750 with unit cell dimensions [92.83178 92.83178 92.83178 90.      90.      90.     ] >\n",
      "< Timestep 8760 with unit cell dimensions [92.83178 92.83178 92.83178 90.      90.      90.     ] >\n",
      "< Timestep 8770 with unit cell dimensions [92.83178 92.83178 92.83178 90.      90.      90.     ] >\n",
      "< Timestep 8780 with unit cell dimensions [92.83178 92.83178 92.83178 90.      90.      90.     ] >\n",
      "< Timestep 8790 with unit cell dimensions [92.83178 92.83178 92.83178 90.      90.      90.     ] >\n",
      "< Timestep 8800 with unit cell dimensions [92.83178 92.83178 92.83178 90.      90.      90.     ] >\n",
      "< Timestep 8810 with unit cell dimensions [92.83178 92.83178 92.83178 90.      90.      90.     ] >\n",
      "< Timestep 8820 with unit cell dimensions [92.83178 92.83178 92.83178 90.      90.      90.     ] >\n",
      "< Timestep 8830 with unit cell dimensions [92.83178 92.83178 92.83178 90.      90.      90.     ] >\n",
      "< Timestep 8840 with unit cell dimensions [92.83178 92.83178 92.83178 90.      90.      90.     ] >\n",
      "< Timestep 8850 with unit cell dimensions [92.83178 92.83178 92.83178 90.      90.      90.     ] >\n",
      "< Timestep 8860 with unit cell dimensions [92.83178 92.83178 92.83178 90.      90.      90.     ] >\n",
      "< Timestep 8870 with unit cell dimensions [92.83178 92.83178 92.83178 90.      90.      90.     ] >\n",
      "< Timestep 8880 with unit cell dimensions [92.83178 92.83178 92.83178 90.      90.      90.     ] >\n",
      "< Timestep 8890 with unit cell dimensions [92.83178 92.83178 92.83178 90.      90.      90.     ] >\n",
      "< Timestep 8900 with unit cell dimensions [92.83178 92.83178 92.83178 90.      90.      90.     ] >\n",
      "< Timestep 8910 with unit cell dimensions [92.83178 92.83178 92.83178 90.      90.      90.     ] >\n",
      "< Timestep 8920 with unit cell dimensions [92.83178 92.83178 92.83178 90.      90.      90.     ] >\n",
      "< Timestep 8930 with unit cell dimensions [92.83178 92.83178 92.83178 90.      90.      90.     ] >\n",
      "< Timestep 8940 with unit cell dimensions [92.83178 92.83178 92.83178 90.      90.      90.     ] >\n",
      "< Timestep 8950 with unit cell dimensions [92.83178 92.83178 92.83178 90.      90.      90.     ] >\n",
      "< Timestep 8960 with unit cell dimensions [92.83178 92.83178 92.83178 90.      90.      90.     ] >\n",
      "< Timestep 8970 with unit cell dimensions [92.83178 92.83178 92.83178 90.      90.      90.     ] >\n",
      "< Timestep 8980 with unit cell dimensions [92.83178 92.83178 92.83178 90.      90.      90.     ] >\n",
      "< Timestep 8990 with unit cell dimensions [92.83178 92.83178 92.83178 90.      90.      90.     ] >\n",
      "< Timestep 9000 with unit cell dimensions [92.83178 92.83178 92.83178 90.      90.      90.     ] >\n",
      "< Timestep 9010 with unit cell dimensions [92.83178 92.83178 92.83178 90.      90.      90.     ] >\n",
      "< Timestep 9020 with unit cell dimensions [92.83178 92.83178 92.83178 90.      90.      90.     ] >\n",
      "< Timestep 9030 with unit cell dimensions [92.83178 92.83178 92.83178 90.      90.      90.     ] >\n",
      "< Timestep 9040 with unit cell dimensions [92.83178 92.83178 92.83178 90.      90.      90.     ] >\n",
      "< Timestep 9050 with unit cell dimensions [92.83178 92.83178 92.83178 90.      90.      90.     ] >\n",
      "< Timestep 9060 with unit cell dimensions [92.83178 92.83178 92.83178 90.      90.      90.     ] >\n",
      "< Timestep 9070 with unit cell dimensions [92.83178 92.83178 92.83178 90.      90.      90.     ] >\n",
      "< Timestep 9080 with unit cell dimensions [92.83178 92.83178 92.83178 90.      90.      90.     ] >\n",
      "< Timestep 9090 with unit cell dimensions [92.83178 92.83178 92.83178 90.      90.      90.     ] >\n",
      "< Timestep 9100 with unit cell dimensions [92.83178 92.83178 92.83178 90.      90.      90.     ] >\n",
      "< Timestep 9110 with unit cell dimensions [92.83178 92.83178 92.83178 90.      90.      90.     ] >\n",
      "< Timestep 9120 with unit cell dimensions [92.83178 92.83178 92.83178 90.      90.      90.     ] >\n",
      "< Timestep 9130 with unit cell dimensions [92.83178 92.83178 92.83178 90.      90.      90.     ] >\n",
      "< Timestep 9140 with unit cell dimensions [92.83178 92.83178 92.83178 90.      90.      90.     ] >\n"
     ]
    },
    {
     "name": "stdout",
     "output_type": "stream",
     "text": [
      "< Timestep 9150 with unit cell dimensions [92.83178 92.83178 92.83178 90.      90.      90.     ] >\n",
      "< Timestep 9160 with unit cell dimensions [92.83178 92.83178 92.83178 90.      90.      90.     ] >\n",
      "< Timestep 9170 with unit cell dimensions [92.83178 92.83178 92.83178 90.      90.      90.     ] >\n",
      "< Timestep 9180 with unit cell dimensions [92.83178 92.83178 92.83178 90.      90.      90.     ] >\n",
      "< Timestep 9190 with unit cell dimensions [92.83178 92.83178 92.83178 90.      90.      90.     ] >\n",
      "< Timestep 9200 with unit cell dimensions [92.83178 92.83178 92.83178 90.      90.      90.     ] >\n",
      "< Timestep 9210 with unit cell dimensions [92.83178 92.83178 92.83178 90.      90.      90.     ] >\n",
      "< Timestep 9220 with unit cell dimensions [92.83178 92.83178 92.83178 90.      90.      90.     ] >\n",
      "< Timestep 9230 with unit cell dimensions [92.83178 92.83178 92.83178 90.      90.      90.     ] >\n",
      "< Timestep 9240 with unit cell dimensions [92.83178 92.83178 92.83178 90.      90.      90.     ] >\n",
      "< Timestep 9250 with unit cell dimensions [92.83178 92.83178 92.83178 90.      90.      90.     ] >\n",
      "< Timestep 9260 with unit cell dimensions [92.83178 92.83178 92.83178 90.      90.      90.     ] >\n",
      "< Timestep 9270 with unit cell dimensions [92.83178 92.83178 92.83178 90.      90.      90.     ] >\n",
      "< Timestep 9280 with unit cell dimensions [92.83178 92.83178 92.83178 90.      90.      90.     ] >\n",
      "< Timestep 9290 with unit cell dimensions [92.83178 92.83178 92.83178 90.      90.      90.     ] >\n",
      "< Timestep 9300 with unit cell dimensions [92.83178 92.83178 92.83178 90.      90.      90.     ] >\n",
      "< Timestep 9310 with unit cell dimensions [92.83178 92.83178 92.83178 90.      90.      90.     ] >\n",
      "< Timestep 9320 with unit cell dimensions [92.83178 92.83178 92.83178 90.      90.      90.     ] >\n",
      "< Timestep 9330 with unit cell dimensions [92.83178 92.83178 92.83178 90.      90.      90.     ] >\n",
      "< Timestep 9340 with unit cell dimensions [92.83178 92.83178 92.83178 90.      90.      90.     ] >\n",
      "< Timestep 9350 with unit cell dimensions [92.83178 92.83178 92.83178 90.      90.      90.     ] >\n",
      "< Timestep 9360 with unit cell dimensions [92.83178 92.83178 92.83178 90.      90.      90.     ] >\n",
      "< Timestep 9370 with unit cell dimensions [92.83178 92.83178 92.83178 90.      90.      90.     ] >\n",
      "< Timestep 9380 with unit cell dimensions [92.83178 92.83178 92.83178 90.      90.      90.     ] >\n",
      "< Timestep 9390 with unit cell dimensions [92.83178 92.83178 92.83178 90.      90.      90.     ] >\n",
      "< Timestep 9400 with unit cell dimensions [92.83178 92.83178 92.83178 90.      90.      90.     ] >\n",
      "< Timestep 9410 with unit cell dimensions [92.83178 92.83178 92.83178 90.      90.      90.     ] >\n",
      "< Timestep 9420 with unit cell dimensions [92.83178 92.83178 92.83178 90.      90.      90.     ] >\n",
      "< Timestep 9430 with unit cell dimensions [92.83178 92.83178 92.83178 90.      90.      90.     ] >\n",
      "< Timestep 9440 with unit cell dimensions [92.83178 92.83178 92.83178 90.      90.      90.     ] >\n",
      "< Timestep 9450 with unit cell dimensions [92.83178 92.83178 92.83178 90.      90.      90.     ] >\n",
      "< Timestep 9460 with unit cell dimensions [92.83178 92.83178 92.83178 90.      90.      90.     ] >\n",
      "< Timestep 9470 with unit cell dimensions [92.83178 92.83178 92.83178 90.      90.      90.     ] >\n",
      "< Timestep 9480 with unit cell dimensions [92.83178 92.83178 92.83178 90.      90.      90.     ] >\n",
      "< Timestep 9490 with unit cell dimensions [92.83178 92.83178 92.83178 90.      90.      90.     ] >\n",
      "< Timestep 9500 with unit cell dimensions [92.83178 92.83178 92.83178 90.      90.      90.     ] >\n",
      "< Timestep 9510 with unit cell dimensions [92.83178 92.83178 92.83178 90.      90.      90.     ] >\n",
      "< Timestep 9520 with unit cell dimensions [92.83178 92.83178 92.83178 90.      90.      90.     ] >\n",
      "< Timestep 9530 with unit cell dimensions [92.83178 92.83178 92.83178 90.      90.      90.     ] >\n",
      "< Timestep 9540 with unit cell dimensions [92.83178 92.83178 92.83178 90.      90.      90.     ] >\n",
      "< Timestep 9550 with unit cell dimensions [92.83178 92.83178 92.83178 90.      90.      90.     ] >\n",
      "< Timestep 9560 with unit cell dimensions [92.83178 92.83178 92.83178 90.      90.      90.     ] >\n",
      "< Timestep 9570 with unit cell dimensions [92.83178 92.83178 92.83178 90.      90.      90.     ] >\n",
      "< Timestep 9580 with unit cell dimensions [92.83178 92.83178 92.83178 90.      90.      90.     ] >\n",
      "< Timestep 9590 with unit cell dimensions [92.83178 92.83178 92.83178 90.      90.      90.     ] >\n",
      "< Timestep 9600 with unit cell dimensions [92.83178 92.83178 92.83178 90.      90.      90.     ] >\n",
      "< Timestep 9610 with unit cell dimensions [92.83178 92.83178 92.83178 90.      90.      90.     ] >\n",
      "< Timestep 9620 with unit cell dimensions [92.83178 92.83178 92.83178 90.      90.      90.     ] >\n",
      "< Timestep 9630 with unit cell dimensions [92.83178 92.83178 92.83178 90.      90.      90.     ] >\n",
      "< Timestep 9640 with unit cell dimensions [92.83178 92.83178 92.83178 90.      90.      90.     ] >\n",
      "< Timestep 9650 with unit cell dimensions [92.83178 92.83178 92.83178 90.      90.      90.     ] >\n",
      "< Timestep 9660 with unit cell dimensions [92.83178 92.83178 92.83178 90.      90.      90.     ] >\n",
      "< Timestep 9670 with unit cell dimensions [92.83178 92.83178 92.83178 90.      90.      90.     ] >\n",
      "< Timestep 9680 with unit cell dimensions [92.83178 92.83178 92.83178 90.      90.      90.     ] >\n",
      "< Timestep 9690 with unit cell dimensions [92.83178 92.83178 92.83178 90.      90.      90.     ] >\n",
      "< Timestep 9700 with unit cell dimensions [92.83178 92.83178 92.83178 90.      90.      90.     ] >\n",
      "< Timestep 9710 with unit cell dimensions [92.83178 92.83178 92.83178 90.      90.      90.     ] >\n",
      "< Timestep 9720 with unit cell dimensions [92.83178 92.83178 92.83178 90.      90.      90.     ] >\n",
      "< Timestep 9730 with unit cell dimensions [92.83178 92.83178 92.83178 90.      90.      90.     ] >\n",
      "< Timestep 9740 with unit cell dimensions [92.83178 92.83178 92.83178 90.      90.      90.     ] >\n",
      "< Timestep 9750 with unit cell dimensions [92.83178 92.83178 92.83178 90.      90.      90.     ] >\n",
      "< Timestep 9760 with unit cell dimensions [92.83178 92.83178 92.83178 90.      90.      90.     ] >\n",
      "< Timestep 9770 with unit cell dimensions [92.83178 92.83178 92.83178 90.      90.      90.     ] >\n",
      "< Timestep 9780 with unit cell dimensions [92.83178 92.83178 92.83178 90.      90.      90.     ] >\n",
      "< Timestep 9790 with unit cell dimensions [92.83178 92.83178 92.83178 90.      90.      90.     ] >\n",
      "< Timestep 9800 with unit cell dimensions [92.83178 92.83178 92.83178 90.      90.      90.     ] >\n",
      "< Timestep 9810 with unit cell dimensions [92.83178 92.83178 92.83178 90.      90.      90.     ] >\n",
      "< Timestep 9820 with unit cell dimensions [92.83178 92.83178 92.83178 90.      90.      90.     ] >\n",
      "< Timestep 9830 with unit cell dimensions [92.83178 92.83178 92.83178 90.      90.      90.     ] >\n",
      "< Timestep 9840 with unit cell dimensions [92.83178 92.83178 92.83178 90.      90.      90.     ] >\n",
      "< Timestep 9850 with unit cell dimensions [92.83178 92.83178 92.83178 90.      90.      90.     ] >\n",
      "< Timestep 9860 with unit cell dimensions [92.83178 92.83178 92.83178 90.      90.      90.     ] >\n",
      "< Timestep 9870 with unit cell dimensions [92.83178 92.83178 92.83178 90.      90.      90.     ] >\n",
      "< Timestep 9880 with unit cell dimensions [92.83178 92.83178 92.83178 90.      90.      90.     ] >\n",
      "< Timestep 9890 with unit cell dimensions [92.83178 92.83178 92.83178 90.      90.      90.     ] >\n",
      "< Timestep 9900 with unit cell dimensions [92.83178 92.83178 92.83178 90.      90.      90.     ] >\n",
      "< Timestep 9910 with unit cell dimensions [92.83178 92.83178 92.83178 90.      90.      90.     ] >\n",
      "< Timestep 9920 with unit cell dimensions [92.83178 92.83178 92.83178 90.      90.      90.     ] >\n",
      "< Timestep 9930 with unit cell dimensions [92.83178 92.83178 92.83178 90.      90.      90.     ] >\n",
      "< Timestep 9940 with unit cell dimensions [92.83178 92.83178 92.83178 90.      90.      90.     ] >\n",
      "< Timestep 9950 with unit cell dimensions [92.83178 92.83178 92.83178 90.      90.      90.     ] >\n",
      "< Timestep 9960 with unit cell dimensions [92.83178 92.83178 92.83178 90.      90.      90.     ] >\n",
      "< Timestep 9970 with unit cell dimensions [92.83178 92.83178 92.83178 90.      90.      90.     ] >\n"
     ]
    },
    {
     "name": "stdout",
     "output_type": "stream",
     "text": [
      "< Timestep 9980 with unit cell dimensions [92.83178 92.83178 92.83178 90.      90.      90.     ] >\n",
      "< Timestep 9990 with unit cell dimensions [92.83178 92.83178 92.83178 90.      90.      90.     ] >\n",
      "< Timestep 10000 with unit cell dimensions [92.83178 92.83178 92.83178 90.      90.      90.     ] >\n",
      "< Timestep 10010 with unit cell dimensions [92.83178 92.83178 92.83178 90.      90.      90.     ] >\n",
      "< Timestep 10020 with unit cell dimensions [92.83178 92.83178 92.83178 90.      90.      90.     ] >\n",
      "< Timestep 10030 with unit cell dimensions [92.83178 92.83178 92.83178 90.      90.      90.     ] >\n",
      "< Timestep 10040 with unit cell dimensions [92.83178 92.83178 92.83178 90.      90.      90.     ] >\n",
      "< Timestep 10050 with unit cell dimensions [92.83178 92.83178 92.83178 90.      90.      90.     ] >\n",
      "< Timestep 10060 with unit cell dimensions [92.83178 92.83178 92.83178 90.      90.      90.     ] >\n",
      "< Timestep 10070 with unit cell dimensions [92.83178 92.83178 92.83178 90.      90.      90.     ] >\n",
      "< Timestep 10080 with unit cell dimensions [92.83178 92.83178 92.83178 90.      90.      90.     ] >\n",
      "< Timestep 10090 with unit cell dimensions [92.83178 92.83178 92.83178 90.      90.      90.     ] >\n",
      "< Timestep 10100 with unit cell dimensions [92.83178 92.83178 92.83178 90.      90.      90.     ] >\n",
      "< Timestep 10110 with unit cell dimensions [92.83178 92.83178 92.83178 90.      90.      90.     ] >\n",
      "< Timestep 10120 with unit cell dimensions [92.83178 92.83178 92.83178 90.      90.      90.     ] >\n",
      "< Timestep 10130 with unit cell dimensions [92.83178 92.83178 92.83178 90.      90.      90.     ] >\n",
      "< Timestep 10140 with unit cell dimensions [92.83178 92.83178 92.83178 90.      90.      90.     ] >\n",
      "< Timestep 10150 with unit cell dimensions [92.83178 92.83178 92.83178 90.      90.      90.     ] >\n",
      "< Timestep 10160 with unit cell dimensions [92.83178 92.83178 92.83178 90.      90.      90.     ] >\n",
      "< Timestep 10170 with unit cell dimensions [92.83178 92.83178 92.83178 90.      90.      90.     ] >\n",
      "< Timestep 10180 with unit cell dimensions [92.83178 92.83178 92.83178 90.      90.      90.     ] >\n",
      "< Timestep 10190 with unit cell dimensions [92.83178 92.83178 92.83178 90.      90.      90.     ] >\n",
      "< Timestep 10200 with unit cell dimensions [92.83178 92.83178 92.83178 90.      90.      90.     ] >\n",
      "< Timestep 10210 with unit cell dimensions [92.83178 92.83178 92.83178 90.      90.      90.     ] >\n",
      "< Timestep 10220 with unit cell dimensions [92.83178 92.83178 92.83178 90.      90.      90.     ] >\n",
      "< Timestep 10230 with unit cell dimensions [92.83178 92.83178 92.83178 90.      90.      90.     ] >\n",
      "< Timestep 10240 with unit cell dimensions [92.83178 92.83178 92.83178 90.      90.      90.     ] >\n",
      "< Timestep 10250 with unit cell dimensions [92.83178 92.83178 92.83178 90.      90.      90.     ] >\n",
      "< Timestep 10260 with unit cell dimensions [92.83178 92.83178 92.83178 90.      90.      90.     ] >\n",
      "< Timestep 10270 with unit cell dimensions [92.83178 92.83178 92.83178 90.      90.      90.     ] >\n",
      "< Timestep 10280 with unit cell dimensions [92.83178 92.83178 92.83178 90.      90.      90.     ] >\n",
      "< Timestep 10290 with unit cell dimensions [92.83178 92.83178 92.83178 90.      90.      90.     ] >\n",
      "< Timestep 10300 with unit cell dimensions [92.83178 92.83178 92.83178 90.      90.      90.     ] >\n",
      "< Timestep 10310 with unit cell dimensions [92.83178 92.83178 92.83178 90.      90.      90.     ] >\n",
      "< Timestep 10320 with unit cell dimensions [92.83178 92.83178 92.83178 90.      90.      90.     ] >\n",
      "< Timestep 10330 with unit cell dimensions [92.83178 92.83178 92.83178 90.      90.      90.     ] >\n",
      "< Timestep 10340 with unit cell dimensions [92.83178 92.83178 92.83178 90.      90.      90.     ] >\n",
      "< Timestep 10350 with unit cell dimensions [92.83178 92.83178 92.83178 90.      90.      90.     ] >\n",
      "< Timestep 10360 with unit cell dimensions [92.83178 92.83178 92.83178 90.      90.      90.     ] >\n",
      "< Timestep 10370 with unit cell dimensions [92.83178 92.83178 92.83178 90.      90.      90.     ] >\n",
      "< Timestep 10380 with unit cell dimensions [92.83178 92.83178 92.83178 90.      90.      90.     ] >\n",
      "< Timestep 10390 with unit cell dimensions [92.83178 92.83178 92.83178 90.      90.      90.     ] >\n",
      "< Timestep 10400 with unit cell dimensions [92.83178 92.83178 92.83178 90.      90.      90.     ] >\n",
      "< Timestep 10410 with unit cell dimensions [92.83178 92.83178 92.83178 90.      90.      90.     ] >\n",
      "< Timestep 10420 with unit cell dimensions [92.83178 92.83178 92.83178 90.      90.      90.     ] >\n",
      "< Timestep 10430 with unit cell dimensions [92.83178 92.83178 92.83178 90.      90.      90.     ] >\n",
      "< Timestep 10440 with unit cell dimensions [92.83178 92.83178 92.83178 90.      90.      90.     ] >\n",
      "< Timestep 10450 with unit cell dimensions [92.83178 92.83178 92.83178 90.      90.      90.     ] >\n",
      "< Timestep 10460 with unit cell dimensions [92.83178 92.83178 92.83178 90.      90.      90.     ] >\n",
      "< Timestep 10470 with unit cell dimensions [92.83178 92.83178 92.83178 90.      90.      90.     ] >\n",
      "< Timestep 10480 with unit cell dimensions [92.83178 92.83178 92.83178 90.      90.      90.     ] >\n",
      "< Timestep 10490 with unit cell dimensions [92.83178 92.83178 92.83178 90.      90.      90.     ] >\n",
      "< Timestep 10500 with unit cell dimensions [92.83178 92.83178 92.83178 90.      90.      90.     ] >\n",
      "< Timestep 10510 with unit cell dimensions [92.83178 92.83178 92.83178 90.      90.      90.     ] >\n",
      "< Timestep 10520 with unit cell dimensions [92.83178 92.83178 92.83178 90.      90.      90.     ] >\n",
      "< Timestep 10530 with unit cell dimensions [92.83178 92.83178 92.83178 90.      90.      90.     ] >\n",
      "< Timestep 10540 with unit cell dimensions [92.83178 92.83178 92.83178 90.      90.      90.     ] >\n",
      "< Timestep 10550 with unit cell dimensions [92.83178 92.83178 92.83178 90.      90.      90.     ] >\n",
      "< Timestep 10560 with unit cell dimensions [92.83178 92.83178 92.83178 90.      90.      90.     ] >\n",
      "< Timestep 10570 with unit cell dimensions [92.83178 92.83178 92.83178 90.      90.      90.     ] >\n",
      "< Timestep 10580 with unit cell dimensions [92.83178 92.83178 92.83178 90.      90.      90.     ] >\n",
      "< Timestep 10590 with unit cell dimensions [92.83178 92.83178 92.83178 90.      90.      90.     ] >\n",
      "< Timestep 10600 with unit cell dimensions [92.83178 92.83178 92.83178 90.      90.      90.     ] >\n",
      "< Timestep 10610 with unit cell dimensions [92.83178 92.83178 92.83178 90.      90.      90.     ] >\n",
      "< Timestep 10620 with unit cell dimensions [92.83178 92.83178 92.83178 90.      90.      90.     ] >\n",
      "< Timestep 10630 with unit cell dimensions [92.83178 92.83178 92.83178 90.      90.      90.     ] >\n",
      "< Timestep 10640 with unit cell dimensions [92.83178 92.83178 92.83178 90.      90.      90.     ] >\n",
      "< Timestep 10650 with unit cell dimensions [92.83178 92.83178 92.83178 90.      90.      90.     ] >\n",
      "< Timestep 10660 with unit cell dimensions [92.83178 92.83178 92.83178 90.      90.      90.     ] >\n",
      "< Timestep 10670 with unit cell dimensions [92.83178 92.83178 92.83178 90.      90.      90.     ] >\n",
      "< Timestep 10680 with unit cell dimensions [92.83178 92.83178 92.83178 90.      90.      90.     ] >\n",
      "< Timestep 10690 with unit cell dimensions [92.83178 92.83178 92.83178 90.      90.      90.     ] >\n",
      "< Timestep 10700 with unit cell dimensions [92.83178 92.83178 92.83178 90.      90.      90.     ] >\n",
      "< Timestep 10710 with unit cell dimensions [92.83178 92.83178 92.83178 90.      90.      90.     ] >\n",
      "< Timestep 10720 with unit cell dimensions [92.83178 92.83178 92.83178 90.      90.      90.     ] >\n",
      "< Timestep 10730 with unit cell dimensions [92.83178 92.83178 92.83178 90.      90.      90.     ] >\n",
      "< Timestep 10740 with unit cell dimensions [92.83178 92.83178 92.83178 90.      90.      90.     ] >\n",
      "< Timestep 10750 with unit cell dimensions [92.83178 92.83178 92.83178 90.      90.      90.     ] >\n",
      "< Timestep 10760 with unit cell dimensions [92.83178 92.83178 92.83178 90.      90.      90.     ] >\n",
      "< Timestep 10770 with unit cell dimensions [92.83178 92.83178 92.83178 90.      90.      90.     ] >\n",
      "< Timestep 10780 with unit cell dimensions [92.83178 92.83178 92.83178 90.      90.      90.     ] >\n",
      "< Timestep 10790 with unit cell dimensions [92.83178 92.83178 92.83178 90.      90.      90.     ] >\n"
     ]
    },
    {
     "name": "stdout",
     "output_type": "stream",
     "text": [
      "< Timestep 10800 with unit cell dimensions [92.83178 92.83178 92.83178 90.      90.      90.     ] >\n",
      "< Timestep 10810 with unit cell dimensions [92.83178 92.83178 92.83178 90.      90.      90.     ] >\n",
      "< Timestep 10820 with unit cell dimensions [92.83178 92.83178 92.83178 90.      90.      90.     ] >\n",
      "< Timestep 10830 with unit cell dimensions [92.83178 92.83178 92.83178 90.      90.      90.     ] >\n",
      "< Timestep 10840 with unit cell dimensions [92.83178 92.83178 92.83178 90.      90.      90.     ] >\n",
      "< Timestep 10850 with unit cell dimensions [92.83178 92.83178 92.83178 90.      90.      90.     ] >\n",
      "< Timestep 10860 with unit cell dimensions [92.83178 92.83178 92.83178 90.      90.      90.     ] >\n",
      "< Timestep 10870 with unit cell dimensions [92.83178 92.83178 92.83178 90.      90.      90.     ] >\n",
      "< Timestep 10880 with unit cell dimensions [92.83178 92.83178 92.83178 90.      90.      90.     ] >\n",
      "< Timestep 10890 with unit cell dimensions [92.83178 92.83178 92.83178 90.      90.      90.     ] >\n",
      "< Timestep 10900 with unit cell dimensions [92.83178 92.83178 92.83178 90.      90.      90.     ] >\n",
      "< Timestep 10910 with unit cell dimensions [92.83178 92.83178 92.83178 90.      90.      90.     ] >\n",
      "< Timestep 10920 with unit cell dimensions [92.83178 92.83178 92.83178 90.      90.      90.     ] >\n",
      "< Timestep 10930 with unit cell dimensions [92.83178 92.83178 92.83178 90.      90.      90.     ] >\n",
      "< Timestep 10940 with unit cell dimensions [92.83178 92.83178 92.83178 90.      90.      90.     ] >\n",
      "< Timestep 10950 with unit cell dimensions [92.83178 92.83178 92.83178 90.      90.      90.     ] >\n",
      "< Timestep 10960 with unit cell dimensions [92.83178 92.83178 92.83178 90.      90.      90.     ] >\n",
      "< Timestep 10970 with unit cell dimensions [92.83178 92.83178 92.83178 90.      90.      90.     ] >\n",
      "< Timestep 10980 with unit cell dimensions [92.83178 92.83178 92.83178 90.      90.      90.     ] >\n",
      "< Timestep 10990 with unit cell dimensions [92.83178 92.83178 92.83178 90.      90.      90.     ] >\n",
      "< Timestep 11000 with unit cell dimensions [92.83178 92.83178 92.83178 90.      90.      90.     ] >\n",
      "< Timestep 11010 with unit cell dimensions [92.83178 92.83178 92.83178 90.      90.      90.     ] >\n",
      "< Timestep 11020 with unit cell dimensions [92.83178 92.83178 92.83178 90.      90.      90.     ] >\n",
      "< Timestep 11030 with unit cell dimensions [92.83178 92.83178 92.83178 90.      90.      90.     ] >\n",
      "< Timestep 11040 with unit cell dimensions [92.83178 92.83178 92.83178 90.      90.      90.     ] >\n",
      "< Timestep 11050 with unit cell dimensions [92.83178 92.83178 92.83178 90.      90.      90.     ] >\n",
      "< Timestep 11060 with unit cell dimensions [92.83178 92.83178 92.83178 90.      90.      90.     ] >\n",
      "< Timestep 11070 with unit cell dimensions [92.83178 92.83178 92.83178 90.      90.      90.     ] >\n",
      "< Timestep 11080 with unit cell dimensions [92.83178 92.83178 92.83178 90.      90.      90.     ] >\n",
      "< Timestep 11090 with unit cell dimensions [92.83178 92.83178 92.83178 90.      90.      90.     ] >\n",
      "< Timestep 11100 with unit cell dimensions [92.83178 92.83178 92.83178 90.      90.      90.     ] >\n",
      "< Timestep 11110 with unit cell dimensions [92.83178 92.83178 92.83178 90.      90.      90.     ] >\n",
      "< Timestep 11120 with unit cell dimensions [92.83178 92.83178 92.83178 90.      90.      90.     ] >\n",
      "< Timestep 11130 with unit cell dimensions [92.83178 92.83178 92.83178 90.      90.      90.     ] >\n",
      "< Timestep 11140 with unit cell dimensions [92.83178 92.83178 92.83178 90.      90.      90.     ] >\n",
      "< Timestep 11150 with unit cell dimensions [92.83178 92.83178 92.83178 90.      90.      90.     ] >\n",
      "< Timestep 11160 with unit cell dimensions [92.83178 92.83178 92.83178 90.      90.      90.     ] >\n",
      "< Timestep 11170 with unit cell dimensions [92.83178 92.83178 92.83178 90.      90.      90.     ] >\n",
      "< Timestep 11180 with unit cell dimensions [92.83178 92.83178 92.83178 90.      90.      90.     ] >\n",
      "< Timestep 11190 with unit cell dimensions [92.83178 92.83178 92.83178 90.      90.      90.     ] >\n",
      "< Timestep 11200 with unit cell dimensions [92.83178 92.83178 92.83178 90.      90.      90.     ] >\n",
      "< Timestep 11210 with unit cell dimensions [92.83178 92.83178 92.83178 90.      90.      90.     ] >\n",
      "< Timestep 11220 with unit cell dimensions [92.83178 92.83178 92.83178 90.      90.      90.     ] >\n",
      "< Timestep 11230 with unit cell dimensions [92.83178 92.83178 92.83178 90.      90.      90.     ] >\n",
      "< Timestep 11240 with unit cell dimensions [92.83178 92.83178 92.83178 90.      90.      90.     ] >\n",
      "< Timestep 11250 with unit cell dimensions [92.83178 92.83178 92.83178 90.      90.      90.     ] >\n",
      "< Timestep 11260 with unit cell dimensions [92.83178 92.83178 92.83178 90.      90.      90.     ] >\n",
      "< Timestep 11270 with unit cell dimensions [92.83178 92.83178 92.83178 90.      90.      90.     ] >\n",
      "< Timestep 11280 with unit cell dimensions [92.83178 92.83178 92.83178 90.      90.      90.     ] >\n",
      "< Timestep 11290 with unit cell dimensions [92.83178 92.83178 92.83178 90.      90.      90.     ] >\n",
      "< Timestep 11300 with unit cell dimensions [92.83178 92.83178 92.83178 90.      90.      90.     ] >\n",
      "< Timestep 11310 with unit cell dimensions [92.83178 92.83178 92.83178 90.      90.      90.     ] >\n",
      "< Timestep 11320 with unit cell dimensions [92.83178 92.83178 92.83178 90.      90.      90.     ] >\n",
      "< Timestep 11330 with unit cell dimensions [92.83178 92.83178 92.83178 90.      90.      90.     ] >\n",
      "< Timestep 11340 with unit cell dimensions [92.83178 92.83178 92.83178 90.      90.      90.     ] >\n",
      "< Timestep 11350 with unit cell dimensions [92.83178 92.83178 92.83178 90.      90.      90.     ] >\n",
      "< Timestep 11360 with unit cell dimensions [92.83178 92.83178 92.83178 90.      90.      90.     ] >\n",
      "< Timestep 11370 with unit cell dimensions [92.83178 92.83178 92.83178 90.      90.      90.     ] >\n",
      "< Timestep 11380 with unit cell dimensions [92.83178 92.83178 92.83178 90.      90.      90.     ] >\n",
      "< Timestep 11390 with unit cell dimensions [92.83178 92.83178 92.83178 90.      90.      90.     ] >\n",
      "< Timestep 11400 with unit cell dimensions [92.83178 92.83178 92.83178 90.      90.      90.     ] >\n",
      "< Timestep 11410 with unit cell dimensions [92.83178 92.83178 92.83178 90.      90.      90.     ] >\n",
      "< Timestep 11420 with unit cell dimensions [92.83178 92.83178 92.83178 90.      90.      90.     ] >\n",
      "< Timestep 11430 with unit cell dimensions [92.83178 92.83178 92.83178 90.      90.      90.     ] >\n",
      "< Timestep 11440 with unit cell dimensions [92.83178 92.83178 92.83178 90.      90.      90.     ] >\n",
      "< Timestep 11450 with unit cell dimensions [92.83178 92.83178 92.83178 90.      90.      90.     ] >\n",
      "< Timestep 11460 with unit cell dimensions [92.83178 92.83178 92.83178 90.      90.      90.     ] >\n",
      "< Timestep 11470 with unit cell dimensions [92.83178 92.83178 92.83178 90.      90.      90.     ] >\n",
      "< Timestep 11480 with unit cell dimensions [92.83178 92.83178 92.83178 90.      90.      90.     ] >\n",
      "< Timestep 11490 with unit cell dimensions [92.83178 92.83178 92.83178 90.      90.      90.     ] >\n",
      "< Timestep 11500 with unit cell dimensions [92.83178 92.83178 92.83178 90.      90.      90.     ] >\n",
      "< Timestep 11510 with unit cell dimensions [92.83178 92.83178 92.83178 90.      90.      90.     ] >\n",
      "< Timestep 11520 with unit cell dimensions [92.83178 92.83178 92.83178 90.      90.      90.     ] >\n",
      "< Timestep 11530 with unit cell dimensions [92.83178 92.83178 92.83178 90.      90.      90.     ] >\n",
      "< Timestep 11540 with unit cell dimensions [92.83178 92.83178 92.83178 90.      90.      90.     ] >\n",
      "< Timestep 11550 with unit cell dimensions [92.83178 92.83178 92.83178 90.      90.      90.     ] >\n",
      "< Timestep 11560 with unit cell dimensions [92.83178 92.83178 92.83178 90.      90.      90.     ] >\n",
      "< Timestep 11570 with unit cell dimensions [92.83178 92.83178 92.83178 90.      90.      90.     ] >\n",
      "< Timestep 11580 with unit cell dimensions [92.83178 92.83178 92.83178 90.      90.      90.     ] >\n",
      "< Timestep 11590 with unit cell dimensions [92.83178 92.83178 92.83178 90.      90.      90.     ] >\n",
      "< Timestep 11600 with unit cell dimensions [92.83178 92.83178 92.83178 90.      90.      90.     ] >\n",
      "< Timestep 11610 with unit cell dimensions [92.83178 92.83178 92.83178 90.      90.      90.     ] >\n"
     ]
    },
    {
     "name": "stdout",
     "output_type": "stream",
     "text": [
      "< Timestep 11620 with unit cell dimensions [92.83178 92.83178 92.83178 90.      90.      90.     ] >\n",
      "< Timestep 11630 with unit cell dimensions [92.83178 92.83178 92.83178 90.      90.      90.     ] >\n",
      "< Timestep 11640 with unit cell dimensions [92.83178 92.83178 92.83178 90.      90.      90.     ] >\n",
      "< Timestep 11650 with unit cell dimensions [92.83178 92.83178 92.83178 90.      90.      90.     ] >\n",
      "< Timestep 11660 with unit cell dimensions [92.83178 92.83178 92.83178 90.      90.      90.     ] >\n",
      "< Timestep 11670 with unit cell dimensions [92.83178 92.83178 92.83178 90.      90.      90.     ] >\n",
      "< Timestep 11680 with unit cell dimensions [92.83178 92.83178 92.83178 90.      90.      90.     ] >\n",
      "< Timestep 11690 with unit cell dimensions [92.83178 92.83178 92.83178 90.      90.      90.     ] >\n",
      "< Timestep 11700 with unit cell dimensions [92.83178 92.83178 92.83178 90.      90.      90.     ] >\n",
      "< Timestep 11710 with unit cell dimensions [92.83178 92.83178 92.83178 90.      90.      90.     ] >\n",
      "< Timestep 11720 with unit cell dimensions [92.83178 92.83178 92.83178 90.      90.      90.     ] >\n",
      "< Timestep 11730 with unit cell dimensions [92.83178 92.83178 92.83178 90.      90.      90.     ] >\n",
      "< Timestep 11740 with unit cell dimensions [92.83178 92.83178 92.83178 90.      90.      90.     ] >\n",
      "< Timestep 11750 with unit cell dimensions [92.83178 92.83178 92.83178 90.      90.      90.     ] >\n",
      "< Timestep 11760 with unit cell dimensions [92.83178 92.83178 92.83178 90.      90.      90.     ] >\n",
      "< Timestep 11770 with unit cell dimensions [92.83178 92.83178 92.83178 90.      90.      90.     ] >\n",
      "< Timestep 11780 with unit cell dimensions [92.83178 92.83178 92.83178 90.      90.      90.     ] >\n",
      "< Timestep 11790 with unit cell dimensions [92.83178 92.83178 92.83178 90.      90.      90.     ] >\n",
      "< Timestep 11800 with unit cell dimensions [92.83178 92.83178 92.83178 90.      90.      90.     ] >\n",
      "< Timestep 11810 with unit cell dimensions [92.83178 92.83178 92.83178 90.      90.      90.     ] >\n",
      "< Timestep 11820 with unit cell dimensions [92.83178 92.83178 92.83178 90.      90.      90.     ] >\n",
      "< Timestep 11830 with unit cell dimensions [92.83178 92.83178 92.83178 90.      90.      90.     ] >\n",
      "< Timestep 11840 with unit cell dimensions [92.83178 92.83178 92.83178 90.      90.      90.     ] >\n",
      "< Timestep 11850 with unit cell dimensions [92.83178 92.83178 92.83178 90.      90.      90.     ] >\n",
      "< Timestep 11860 with unit cell dimensions [92.83178 92.83178 92.83178 90.      90.      90.     ] >\n",
      "< Timestep 11870 with unit cell dimensions [92.83178 92.83178 92.83178 90.      90.      90.     ] >\n",
      "< Timestep 11880 with unit cell dimensions [92.83178 92.83178 92.83178 90.      90.      90.     ] >\n",
      "< Timestep 11890 with unit cell dimensions [92.83178 92.83178 92.83178 90.      90.      90.     ] >\n",
      "< Timestep 11900 with unit cell dimensions [92.83178 92.83178 92.83178 90.      90.      90.     ] >\n",
      "< Timestep 11910 with unit cell dimensions [92.83178 92.83178 92.83178 90.      90.      90.     ] >\n",
      "< Timestep 11920 with unit cell dimensions [92.83178 92.83178 92.83178 90.      90.      90.     ] >\n",
      "< Timestep 11930 with unit cell dimensions [92.83178 92.83178 92.83178 90.      90.      90.     ] >\n",
      "< Timestep 11940 with unit cell dimensions [92.83178 92.83178 92.83178 90.      90.      90.     ] >\n",
      "< Timestep 11950 with unit cell dimensions [92.83178 92.83178 92.83178 90.      90.      90.     ] >\n",
      "< Timestep 11960 with unit cell dimensions [92.83178 92.83178 92.83178 90.      90.      90.     ] >\n",
      "< Timestep 11970 with unit cell dimensions [92.83178 92.83178 92.83178 90.      90.      90.     ] >\n",
      "< Timestep 11980 with unit cell dimensions [92.83178 92.83178 92.83178 90.      90.      90.     ] >\n",
      "< Timestep 11990 with unit cell dimensions [92.83178 92.83178 92.83178 90.      90.      90.     ] >\n",
      "< Timestep 12000 with unit cell dimensions [92.83178 92.83178 92.83178 90.      90.      90.     ] >\n",
      "< Timestep 12010 with unit cell dimensions [92.83178 92.83178 92.83178 90.      90.      90.     ] >\n",
      "< Timestep 12020 with unit cell dimensions [92.83178 92.83178 92.83178 90.      90.      90.     ] >\n",
      "< Timestep 12030 with unit cell dimensions [92.83178 92.83178 92.83178 90.      90.      90.     ] >\n",
      "< Timestep 12040 with unit cell dimensions [92.83178 92.83178 92.83178 90.      90.      90.     ] >\n",
      "< Timestep 12050 with unit cell dimensions [92.83178 92.83178 92.83178 90.      90.      90.     ] >\n",
      "< Timestep 12060 with unit cell dimensions [92.83178 92.83178 92.83178 90.      90.      90.     ] >\n",
      "< Timestep 12070 with unit cell dimensions [92.83178 92.83178 92.83178 90.      90.      90.     ] >\n",
      "< Timestep 12080 with unit cell dimensions [92.83178 92.83178 92.83178 90.      90.      90.     ] >\n",
      "< Timestep 12090 with unit cell dimensions [92.83178 92.83178 92.83178 90.      90.      90.     ] >\n",
      "< Timestep 12100 with unit cell dimensions [92.83178 92.83178 92.83178 90.      90.      90.     ] >\n",
      "< Timestep 12110 with unit cell dimensions [92.83178 92.83178 92.83178 90.      90.      90.     ] >\n",
      "< Timestep 12120 with unit cell dimensions [92.83178 92.83178 92.83178 90.      90.      90.     ] >\n",
      "< Timestep 12130 with unit cell dimensions [92.83178 92.83178 92.83178 90.      90.      90.     ] >\n",
      "< Timestep 12140 with unit cell dimensions [92.83178 92.83178 92.83178 90.      90.      90.     ] >\n",
      "< Timestep 12150 with unit cell dimensions [92.83178 92.83178 92.83178 90.      90.      90.     ] >\n",
      "< Timestep 12160 with unit cell dimensions [92.83178 92.83178 92.83178 90.      90.      90.     ] >\n",
      "< Timestep 12170 with unit cell dimensions [92.83178 92.83178 92.83178 90.      90.      90.     ] >\n",
      "< Timestep 12180 with unit cell dimensions [92.83178 92.83178 92.83178 90.      90.      90.     ] >\n",
      "< Timestep 12190 with unit cell dimensions [92.83178 92.83178 92.83178 90.      90.      90.     ] >\n",
      "< Timestep 12200 with unit cell dimensions [92.83178 92.83178 92.83178 90.      90.      90.     ] >\n",
      "< Timestep 12210 with unit cell dimensions [92.83178 92.83178 92.83178 90.      90.      90.     ] >\n",
      "< Timestep 12220 with unit cell dimensions [92.83178 92.83178 92.83178 90.      90.      90.     ] >\n",
      "< Timestep 12230 with unit cell dimensions [92.83178 92.83178 92.83178 90.      90.      90.     ] >\n",
      "< Timestep 12240 with unit cell dimensions [92.83178 92.83178 92.83178 90.      90.      90.     ] >\n",
      "< Timestep 12250 with unit cell dimensions [92.83178 92.83178 92.83178 90.      90.      90.     ] >\n",
      "< Timestep 12260 with unit cell dimensions [92.83178 92.83178 92.83178 90.      90.      90.     ] >\n",
      "< Timestep 12270 with unit cell dimensions [92.83178 92.83178 92.83178 90.      90.      90.     ] >\n",
      "< Timestep 12280 with unit cell dimensions [92.83178 92.83178 92.83178 90.      90.      90.     ] >\n",
      "< Timestep 12290 with unit cell dimensions [92.83178 92.83178 92.83178 90.      90.      90.     ] >\n",
      "< Timestep 12300 with unit cell dimensions [92.83178 92.83178 92.83178 90.      90.      90.     ] >\n",
      "< Timestep 12310 with unit cell dimensions [92.83178 92.83178 92.83178 90.      90.      90.     ] >\n",
      "< Timestep 12320 with unit cell dimensions [92.83178 92.83178 92.83178 90.      90.      90.     ] >\n",
      "< Timestep 12330 with unit cell dimensions [92.83178 92.83178 92.83178 90.      90.      90.     ] >\n",
      "< Timestep 12340 with unit cell dimensions [92.83178 92.83178 92.83178 90.      90.      90.     ] >\n",
      "< Timestep 12350 with unit cell dimensions [92.83178 92.83178 92.83178 90.      90.      90.     ] >\n",
      "< Timestep 12360 with unit cell dimensions [92.83178 92.83178 92.83178 90.      90.      90.     ] >\n",
      "< Timestep 12370 with unit cell dimensions [92.83178 92.83178 92.83178 90.      90.      90.     ] >\n",
      "< Timestep 12380 with unit cell dimensions [92.83178 92.83178 92.83178 90.      90.      90.     ] >\n",
      "< Timestep 12390 with unit cell dimensions [92.83178 92.83178 92.83178 90.      90.      90.     ] >\n",
      "< Timestep 12400 with unit cell dimensions [92.83178 92.83178 92.83178 90.      90.      90.     ] >\n",
      "< Timestep 12410 with unit cell dimensions [92.83178 92.83178 92.83178 90.      90.      90.     ] >\n",
      "< Timestep 12420 with unit cell dimensions [92.83178 92.83178 92.83178 90.      90.      90.     ] >\n",
      "< Timestep 12430 with unit cell dimensions [92.83178 92.83178 92.83178 90.      90.      90.     ] >\n"
     ]
    },
    {
     "name": "stdout",
     "output_type": "stream",
     "text": [
      "< Timestep 12440 with unit cell dimensions [92.83178 92.83178 92.83178 90.      90.      90.     ] >\n",
      "< Timestep 12450 with unit cell dimensions [92.83178 92.83178 92.83178 90.      90.      90.     ] >\n",
      "< Timestep 12460 with unit cell dimensions [92.83178 92.83178 92.83178 90.      90.      90.     ] >\n",
      "< Timestep 12470 with unit cell dimensions [92.83178 92.83178 92.83178 90.      90.      90.     ] >\n",
      "< Timestep 12480 with unit cell dimensions [92.83178 92.83178 92.83178 90.      90.      90.     ] >\n",
      "< Timestep 12490 with unit cell dimensions [92.83178 92.83178 92.83178 90.      90.      90.     ] >\n"
     ]
    }
   ],
   "source": [
    "# Loop through the xyz frames\n",
    "for ts in u.trajectory[bin_t0:bin_tf:1]:\n",
    "    \n",
    "    if ts.frame%10 == 0:\n",
    "        print(ts)\n",
    "\n",
    "    # BOX DIMENSIONS\n",
    "    ts.dimensions = [lx, lx, lx, 90, 90, 90 ] \n",
    "    \n",
    "    \n",
    "    #============== IDENTIFY ALL OF THE CLUSTERS ===============\n",
    "    \n",
    "    # Generate the adjacancy matrix\n",
    "    adjmatrix = contact_matrix(particles.positions, cutoff=trunc_distance, returntype='numpy', box=ts.dimensions)\n",
    "\n",
    "    # Generate a graph from the adjacency matrix\n",
    "    Graph = nx.Graph(adjmatrix)  \n",
    "    \n",
    "    # Size of connected components in the graph\n",
    "    cluster_sizes = [len(c) for c in sorted(nx.connected_components(Graph), key=len, reverse=True)]\n",
    "    \n",
    "     # Largest nucleus\n",
    "    largest_cluster_size = cluster_sizes[0]      \n",
    "    \n",
    "    # List of nodes in every connected component\n",
    "    cluster_members = [c for c in sorted(nx.connected_components(Graph), key=len, reverse=True)]\n",
    "    \n",
    "    # Number of nuclei connected components\n",
    "    number_of_clusters = len(cluster_sizes)     \n",
    "    \n",
    "    \n",
    "    #============== ANALYSE THE LARGEST CLUSTER ===============\n",
    "    \n",
    "    # PROPERTIES OF THE DROPLET\n",
    "    # Get the components of the largest cluster\n",
    "    largest_cluster_indices = list(cluster_members[0])\n",
    "    droplet = u.atoms[(particles.indices[largest_cluster_indices])]\n",
    "\n",
    "    # Build a new graph\n",
    "    adjmatrix_droplet = contact_matrix(droplet.positions, cutoff=trunc_distance, returntype='numpy', box=ts.dimensions)\n",
    "    Graph_droplet = nx.Graph(adjmatrix_droplet)     \n",
    "    \n",
    "    # Depth first search for connected nodes\n",
    "    T = nx.dfs_tree(Graph_droplet, source=0)\n",
    "    E = list(T.edges())\n",
    "        \n",
    "    # Reconstruct the droplet across boundaries\n",
    "    pos = droplet.positions\n",
    "    for i in range(0,len(E)):   \n",
    "        v = pos[E[i][1]] - pos[E[i][0]]\n",
    "        pos[E[i][1]] = pos[E[i][0]] + minimum_image(v,ts.dimensions[0:3])            \n",
    "    \n",
    "    # Droplet centre of mass\n",
    "    droplet.masses = 1\n",
    "    com = centre_of_mass(pos,droplet.masses)\n",
    "    \n",
    "    # Calculate the gyration tensor\n",
    "    gyration_tensor = calculate_gyration_tensor(pos - com)\n",
    "\n",
    "    eVals,eVecs = eig(gyration_tensor)    # Diagonalise\n",
    "    eVals = eVals.real\n",
    "    eVals = np.sort(eVals)\n",
    "\n",
    "    droplet_rgyr = np.sum(eVals)**0.5                                 # Radius of gyration\n",
    "    droplet_asph = 3/2*eVals[2] - droplet_rgyr**2/2                   # Asphericity\n",
    "    #droplet_acyl = eVals[1] - eVals[0]                                # Acylindricity\n",
    "    #droplet_kapa = 3/2 * (np.sum(eVals**2)/np.sum(eVals)**2) - 0.5    # Relative shape anisotropy\n",
    "       \n",
    "    # Droplet density profile\n",
    "    parr = pos[droplet.types == '1']\n",
    "    for i in range(0,largest_cluster_size):\n",
    "        v = parr[i] - com\n",
    "        d = np.sqrt(np.dot(v,v))/delta\n",
    "        rad_dist_dropl[d.astype(int)] +=1\n",
    "    \n",
    "    \n",
    "    #============== ANALYSE THE VAPOUR PHASE ===============    \n",
    "\n",
    "    # DENSITIES OF THE PHASES\n",
    "    vapourdensity = (num_particles - largest_cluster_size) / (Vol - droplet_rgyr**3)\n",
    "    \n",
    "    \n",
    "    \n",
    "    #============== RECORD THE PROPERTIES ===============       \n",
    "    time.append(ts.time*tdelta)\n",
    "    ncls.append(number_of_clusters)\n",
    "    clsz.extend(cluster_sizes)\n",
    "    dsiz.append(largest_cluster_size)\n",
    "    drgy.append(droplet_rgyr)\n",
    "    dasp.append(droplet_asph)\n",
    "    vden.append(vapourdensity)\n",
    "    \n",
    "    frames += 1"
   ]
  },
  {
   "cell_type": "markdown",
   "metadata": {},
   "source": [
    "##  Plot the time series"
   ]
  },
  {
   "cell_type": "code",
   "execution_count": 39,
   "metadata": {},
   "outputs": [
    {
     "data": {
      "image/png": "[encoded data removed]",
      "text/plain": [
       "<Figure size 720x720 with 4 Axes>"
      ]
     },
     "metadata": {
      "needs_background": "light"
     },
     "output_type": "display_data"
    }
   ],
   "source": [
    "fig, [[ax0, ax1], [ax2, ax3]] = plt.subplots(nrows=2, ncols=2, sharex=True,figsize=(10,10))  \n",
    "\n",
    "# Droplet size\n",
    "#ax0.set_xlim([intzmin+1.5,intzmax-0.1])\n",
    "#ax0.set_ylim([0,2.5])\n",
    "ax0.title.set_text('Droplet size')\n",
    "ax0.set_ylabel(\"$N$ ions\")\n",
    "ax0.plot(time,dsiz,'k-',linewidth=1)\n",
    "\n",
    "# Radius of gyration\n",
    "#ax1.set_xlim([intzmin,intzmax-0.1])\n",
    "#ax1.set_ylim([0,1.05])\n",
    "ax1.title.set_text('Droplet radius of gyration')\n",
    "ax1.set_ylabel(\"nm\")\n",
    "ax1.plot(time,drgy,'k-',linewidth=1)\n",
    "\n",
    "# Number of clusters\n",
    "#ax2.set_xlim([intzmin,intzmax-0.1])\n",
    "#ax2.set_ylim([0,2.5])\n",
    "ax2.title.set_text('Number of clusters')\n",
    "ax2.set_ylabel(\"\")\n",
    "ax2.plot(time,ncls,'k-',linewidth=1)\n",
    "\n",
    "# Vapour phase density\n",
    "#ax3.set_xlim([intzmin,intzmax-0.1])\n",
    "#ax3.set_ylim([0,2.5])\n",
    "ax3.title.set_text('Vapour phase density')\n",
    "ax3.set_ylabel(\"\")\n",
    "ax3.plot(time,vden,'k-',linewidth=1)\n",
    "\n",
    "plt.savefig(wdir+'droplet_timeseries.png',dpi=100)"
   ]
  },
  {
   "cell_type": "markdown",
   "metadata": {},
   "source": [
    "## Density of the droplet "
   ]
  },
  {
   "cell_type": "code",
   "execution_count": 40,
   "metadata": {},
   "outputs": [],
   "source": [
    "binp = np.arange(0,nbins)*delta\n",
    "\n",
    "dV = 4/3*constants.pi * ((binp+delta)**3-binp**3)\n",
    "rad_drop = (rad_dist_dropl / frames) / dV \n"
   ]
  },
  {
   "cell_type": "code",
   "execution_count": 47,
   "metadata": {},
   "outputs": [
    {
     "data": {
      "text/plain": [
       "Text(0, 0.5, 'Reduced density')"
      ]
     },
     "execution_count": 47,
     "metadata": {},
     "output_type": "execute_result"
    },
    {
     "data": {
      "image/png": "[encoded data removed]",
      "text/plain": [
       "<Figure size 360x288 with 1 Axes>"
      ]
     },
     "metadata": {
      "needs_background": "light"
     },
     "output_type": "display_data"
    }
   ],
   "source": [
    "w0 = 6\n",
    "w1 = 24\n",
    "\n",
    "binp = binp + delta/2\n",
    "plt.xlim(0,50)\n",
    "#plt.ylim(0,65)\n",
    "plt.plot(binp,rad_drop,'-')\n",
    "plt.plot(binp[w0:w1],rad_drop[w0:w1],'-')\n",
    "plt.xlabel(\"Distance from CoM\")\n",
    "plt.ylabel(\"Reduced density\")\n",
    "\n"
   ]
  },
  {
   "cell_type": "code",
   "execution_count": 48,
   "metadata": {},
   "outputs": [],
   "source": [
    "np.savetxt(wdir+'rad_drop.dat',np.column_stack([binp,rad_drop]))"
   ]
  },
  {
   "cell_type": "markdown",
   "metadata": {},
   "source": [
    "## Print the important properties"
   ]
  },
  {
   "cell_type": "code",
   "execution_count": 49,
   "metadata": {},
   "outputs": [
    {
     "name": "stdout",
     "output_type": "stream",
     "text": [
      "0.0004849999948630937\n",
      "0.006150742311213808 0.00013247140996031488\n",
      "0.00019195735310292638 2.1686005816217352e-05\n",
      " \n",
      "12.681943044040745\n",
      "0.39578836110526616\n"
     ]
    }
   ],
   "source": [
    "with open(wdir+'drop-dens.txt', 'w') as f:\n",
    "    \n",
    "    f.write(str(uniform_density) + '\\n')\n",
    "    f.write(str(np.mean(rad_drop[w0:w1])) + '  ' + str(np.std(rad_drop[w0:w1])) + '\\n') # droplet mean desnsity\n",
    "    f.write(str(np.mean(vden)) + '  ' + str(np.std(vden)) + '\\n')\n",
    "\n",
    "print(uniform_density)\n",
    "print(np.mean(rad_drop[w0:w1]),np.std(rad_drop[w0:w1])) # droplet mean desnsity\n",
    "print(np.mean(vden),np.std(vden)) # vapour density\n",
    "print(\" \")\n",
    "print(np.mean(rad_drop[w0:w1])/uniform_density) # droplet mean desnsity\n",
    "print(np.mean(vden)/uniform_density) # vapour density"
   ]
  },
  {
   "cell_type": "code",
   "execution_count": 53,
   "metadata": {},
   "outputs": [
    {
     "name": "stdout",
     "output_type": "stream",
     "text": [
      "235.651\n"
     ]
    }
   ],
   "source": [
    "print(np.mean(dsiz))"
   ]
  },
  {
   "cell_type": "code",
   "execution_count": 65,
   "metadata": {},
   "outputs": [
    {
     "data": {
      "text/plain": [
       "[<matplotlib.lines.Line2D at 0x7f5e1d461b00>]"
      ]
     },
     "execution_count": 65,
     "metadata": {},
     "output_type": "execute_result"
    },
    {
     "data": {
      "image/png": "[encoded data removed]",
      "text/plain": [
       "<Figure size 360x288 with 1 Axes>"
      ]
     },
     "metadata": {
      "needs_background": "light"
     },
     "output_type": "display_data"
    }
   ],
   "source": [
    "v = 4/3 * constants.pi * binp**3\n",
    "\n",
    "plt.plot(binp,rad_drop*v,'.')"
   ]
  },
  {
   "cell_type": "code",
   "execution_count": 66,
   "metadata": {},
   "outputs": [
    {
     "data": {
      "text/plain": [
       "[<matplotlib.lines.Line2D at 0x7f5e1c0726d8>]"
      ]
     },
     "execution_count": 66,
     "metadata": {},
     "output_type": "execute_result"
    },
    {
     "data": {
      "image/png": "[encoded data removed]",
      "text/plain": [
       "<Figure size 360x288 with 1 Axes>"
      ]
     },
     "metadata": {
      "needs_background": "light"
     },
     "output_type": "display_data"
    }
   ],
   "source": [
    "b = np.cumsum(rad_drop*v)\n",
    "plt.plot(b)"
   ]
  },
  {
   "cell_type": "code",
   "execution_count": 50,
   "metadata": {},
   "outputs": [
    {
     "name": "stdout",
     "output_type": "stream",
     "text": [
      "0.006018270901253493 0.006283213721174123\n"
     ]
    }
   ],
   "source": [
    "print(np.mean(rad_drop[w0:w1])-np.std(rad_drop[w0:w1]),np.mean(rad_drop[w0:w1])+np.std(rad_drop[w0:w1]))"
   ]
  },
  {
   "cell_type": "code",
   "execution_count": 51,
   "metadata": {},
   "outputs": [
    {
     "name": "stdout",
     "output_type": "stream",
     "text": [
      "18.520929082591792 17.775734891290767 19.266123273892816\n"
     ]
    }
   ],
   "source": [
    "print(np.mean(drgy),np.mean(drgy)-np.std(drgy),np.mean(drgy)+np.std(drgy))"
   ]
  },
  {
   "cell_type": "code",
   "execution_count": 52,
   "metadata": {},
   "outputs": [
    {
     "data": {
      "text/plain": [
       "<ErrorbarContainer object of 3 artists>"
      ]
     },
     "execution_count": 52,
     "metadata": {},
     "output_type": "execute_result"
    },
    {
     "data": {
      "image/png": "[encoded data removed]",
      "text/plain": [
       "<Figure size 360x288 with 1 Axes>"
      ]
     },
     "metadata": {
      "needs_background": "light"
     },
     "output_type": "display_data"
    }
   ],
   "source": [
    "plt.plot([0,4],[uniform_density,uniform_density])\n",
    "plt.plot(1,np.mean(rad_drop[w0:w1]),'o')\n",
    "plt.errorbar(1,np.mean(rad_drop[w0:w1]),yerr=np.std(rad_drop[w0:w1]))\n",
    "plt.plot(3,np.mean(vden),'o')\n",
    "plt.errorbar(3,np.mean(vden),yerr=np.std(rad_drop[w0:w1]))\n"
   ]
  },
  {
   "cell_type": "markdown",
   "metadata": {},
   "source": [
    "# Now Repeat the Exercise to Analyse the Crystal"
   ]
  },
  {
   "cell_type": "code",
   "execution_count": 564,
   "metadata": {},
   "outputs": [],
   "source": [
    "ct0 = 1.2e7\n",
    "ctf = 1.85e7"
   ]
  },
  {
   "cell_type": "code",
   "execution_count": 565,
   "metadata": {},
   "outputs": [],
   "source": [
    "bin_t0 = int(ct0/tdelta)\n",
    "bin_tf = int(ctf/tdelta)"
   ]
  },
  {
   "cell_type": "code",
   "execution_count": 566,
   "metadata": {},
   "outputs": [
    {
     "data": {
      "text/plain": [
       "[<matplotlib.lines.Line2D at 0x7f7f32b8d9b0>]"
      ]
     },
     "execution_count": 566,
     "metadata": {},
     "output_type": "execute_result"
    },
    {
     "data": {
      "image/png": "[encoded data removed]",
      "text/plain": [
       "<Figure size 360x288 with 1 Axes>"
      ]
     },
     "metadata": {
      "needs_background": "light"
     },
     "output_type": "display_data"
    }
   ],
   "source": [
    "plt.plot(flt_t,flt_ene)\n",
    "plt.plot([ct0,ct0],[-25,0])\n",
    "plt.plot([ctf,ctf],[-25,0])\n",
    "plt.plot([0,2e7],[-21,-21],color='red')\n",
    "#plt.xlim(0,1e7)"
   ]
  },
  {
   "cell_type": "markdown",
   "metadata": {},
   "source": [
    "## Time Series Analysis of the Crystal"
   ]
  },
  {
   "cell_type": "code",
   "execution_count": 567,
   "metadata": {},
   "outputs": [],
   "source": [
    "# Set the cutoff for first sphere coordination\n",
    "trunc_distance = 7.3#irdf.bins[truncation] \n",
    "\n",
    "# Density profile arrays\n",
    "delta = 0.4\n",
    "maxd = lx*2\n",
    "nbins = np.int(maxd/delta)\n",
    "rad_dist_dropl = np.zeros(nbins)\n",
    "rad_dist_cryst = np.zeros(nbins)\n",
    "\n",
    "# Time series lists\n",
    "time = [] # simulation time\n",
    "ncls = [] # number of clusters\n",
    "clsz = [] # cluster sizes\n",
    "csiz = [] # droplet size\n",
    "vsiz = [] # vapour size\n",
    "crgy = [] # droplet radius of gyration\n",
    "casp = [] # droplet asphericity\n",
    "vden = [] # vapour phase density\n",
    "\n",
    "\n",
    "frames = 0"
   ]
  },
  {
   "cell_type": "code",
   "execution_count": 568,
   "metadata": {},
   "outputs": [
    {
     "name": "stdout",
     "output_type": "stream",
     "text": [
      "< Timestep 12000 with unit cell dimensions [92.83178 92.83178 92.83178 90.      90.      90.     ] >\n",
      "< Timestep 12010 with unit cell dimensions [92.83178 92.83178 92.83178 90.      90.      90.     ] >\n",
      "< Timestep 12020 with unit cell dimensions [92.83178 92.83178 92.83178 90.      90.      90.     ] >\n",
      "< Timestep 12030 with unit cell dimensions [92.83178 92.83178 92.83178 90.      90.      90.     ] >\n",
      "< Timestep 12040 with unit cell dimensions [92.83178 92.83178 92.83178 90.      90.      90.     ] >\n",
      "< Timestep 12050 with unit cell dimensions [92.83178 92.83178 92.83178 90.      90.      90.     ] >\n",
      "< Timestep 12060 with unit cell dimensions [92.83178 92.83178 92.83178 90.      90.      90.     ] >\n",
      "< Timestep 12070 with unit cell dimensions [92.83178 92.83178 92.83178 90.      90.      90.     ] >\n",
      "< Timestep 12080 with unit cell dimensions [92.83178 92.83178 92.83178 90.      90.      90.     ] >\n",
      "< Timestep 12090 with unit cell dimensions [92.83178 92.83178 92.83178 90.      90.      90.     ] >\n",
      "< Timestep 12100 with unit cell dimensions [92.83178 92.83178 92.83178 90.      90.      90.     ] >\n",
      "< Timestep 12110 with unit cell dimensions [92.83178 92.83178 92.83178 90.      90.      90.     ] >\n",
      "< Timestep 12120 with unit cell dimensions [92.83178 92.83178 92.83178 90.      90.      90.     ] >\n",
      "< Timestep 12130 with unit cell dimensions [92.83178 92.83178 92.83178 90.      90.      90.     ] >\n",
      "< Timestep 12140 with unit cell dimensions [92.83178 92.83178 92.83178 90.      90.      90.     ] >\n",
      "< Timestep 12150 with unit cell dimensions [92.83178 92.83178 92.83178 90.      90.      90.     ] >\n",
      "< Timestep 12160 with unit cell dimensions [92.83178 92.83178 92.83178 90.      90.      90.     ] >\n",
      "< Timestep 12170 with unit cell dimensions [92.83178 92.83178 92.83178 90.      90.      90.     ] >\n",
      "< Timestep 12180 with unit cell dimensions [92.83178 92.83178 92.83178 90.      90.      90.     ] >\n",
      "< Timestep 12190 with unit cell dimensions [92.83178 92.83178 92.83178 90.      90.      90.     ] >\n",
      "< Timestep 12200 with unit cell dimensions [92.83178 92.83178 92.83178 90.      90.      90.     ] >\n",
      "< Timestep 12210 with unit cell dimensions [92.83178 92.83178 92.83178 90.      90.      90.     ] >\n",
      "< Timestep 12220 with unit cell dimensions [92.83178 92.83178 92.83178 90.      90.      90.     ] >\n",
      "< Timestep 12230 with unit cell dimensions [92.83178 92.83178 92.83178 90.      90.      90.     ] >\n",
      "< Timestep 12240 with unit cell dimensions [92.83178 92.83178 92.83178 90.      90.      90.     ] >\n",
      "< Timestep 12250 with unit cell dimensions [92.83178 92.83178 92.83178 90.      90.      90.     ] >\n",
      "< Timestep 12260 with unit cell dimensions [92.83178 92.83178 92.83178 90.      90.      90.     ] >\n",
      "< Timestep 12270 with unit cell dimensions [92.83178 92.83178 92.83178 90.      90.      90.     ] >\n",
      "< Timestep 12280 with unit cell dimensions [92.83178 92.83178 92.83178 90.      90.      90.     ] >\n",
      "< Timestep 12290 with unit cell dimensions [92.83178 92.83178 92.83178 90.      90.      90.     ] >\n",
      "< Timestep 12300 with unit cell dimensions [92.83178 92.83178 92.83178 90.      90.      90.     ] >\n",
      "< Timestep 12310 with unit cell dimensions [92.83178 92.83178 92.83178 90.      90.      90.     ] >\n",
      "< Timestep 12320 with unit cell dimensions [92.83178 92.83178 92.83178 90.      90.      90.     ] >\n",
      "< Timestep 12330 with unit cell dimensions [92.83178 92.83178 92.83178 90.      90.      90.     ] >\n",
      "< Timestep 12340 with unit cell dimensions [92.83178 92.83178 92.83178 90.      90.      90.     ] >\n",
      "< Timestep 12350 with unit cell dimensions [92.83178 92.83178 92.83178 90.      90.      90.     ] >\n",
      "< Timestep 12360 with unit cell dimensions [92.83178 92.83178 92.83178 90.      90.      90.     ] >\n",
      "< Timestep 12370 with unit cell dimensions [92.83178 92.83178 92.83178 90.      90.      90.     ] >\n",
      "< Timestep 12380 with unit cell dimensions [92.83178 92.83178 92.83178 90.      90.      90.     ] >\n",
      "< Timestep 12390 with unit cell dimensions [92.83178 92.83178 92.83178 90.      90.      90.     ] >\n",
      "< Timestep 12400 with unit cell dimensions [92.83178 92.83178 92.83178 90.      90.      90.     ] >\n",
      "< Timestep 12410 with unit cell dimensions [92.83178 92.83178 92.83178 90.      90.      90.     ] >\n",
      "< Timestep 12420 with unit cell dimensions [92.83178 92.83178 92.83178 90.      90.      90.     ] >\n",
      "< Timestep 12430 with unit cell dimensions [92.83178 92.83178 92.83178 90.      90.      90.     ] >\n",
      "< Timestep 12440 with unit cell dimensions [92.83178 92.83178 92.83178 90.      90.      90.     ] >\n",
      "< Timestep 12450 with unit cell dimensions [92.83178 92.83178 92.83178 90.      90.      90.     ] >\n",
      "< Timestep 12460 with unit cell dimensions [92.83178 92.83178 92.83178 90.      90.      90.     ] >\n",
      "< Timestep 12470 with unit cell dimensions [92.83178 92.83178 92.83178 90.      90.      90.     ] >\n",
      "< Timestep 12480 with unit cell dimensions [92.83178 92.83178 92.83178 90.      90.      90.     ] >\n",
      "< Timestep 12490 with unit cell dimensions [92.83178 92.83178 92.83178 90.      90.      90.     ] >\n",
      "< Timestep 12500 with unit cell dimensions [92.83178 92.83178 92.83178 90.      90.      90.     ] >\n",
      "< Timestep 12510 with unit cell dimensions [92.83178 92.83178 92.83178 90.      90.      90.     ] >\n",
      "< Timestep 12520 with unit cell dimensions [92.83178 92.83178 92.83178 90.      90.      90.     ] >\n",
      "< Timestep 12530 with unit cell dimensions [92.83178 92.83178 92.83178 90.      90.      90.     ] >\n",
      "< Timestep 12540 with unit cell dimensions [92.83178 92.83178 92.83178 90.      90.      90.     ] >\n",
      "< Timestep 12550 with unit cell dimensions [92.83178 92.83178 92.83178 90.      90.      90.     ] >\n",
      "< Timestep 12560 with unit cell dimensions [92.83178 92.83178 92.83178 90.      90.      90.     ] >\n",
      "< Timestep 12570 with unit cell dimensions [92.83178 92.83178 92.83178 90.      90.      90.     ] >\n",
      "< Timestep 12580 with unit cell dimensions [92.83178 92.83178 92.83178 90.      90.      90.     ] >\n",
      "< Timestep 12590 with unit cell dimensions [92.83178 92.83178 92.83178 90.      90.      90.     ] >\n",
      "< Timestep 12600 with unit cell dimensions [92.83178 92.83178 92.83178 90.      90.      90.     ] >\n",
      "< Timestep 12610 with unit cell dimensions [92.83178 92.83178 92.83178 90.      90.      90.     ] >\n",
      "< Timestep 12620 with unit cell dimensions [92.83178 92.83178 92.83178 90.      90.      90.     ] >\n",
      "< Timestep 12630 with unit cell dimensions [92.83178 92.83178 92.83178 90.      90.      90.     ] >\n",
      "< Timestep 12640 with unit cell dimensions [92.83178 92.83178 92.83178 90.      90.      90.     ] >\n",
      "< Timestep 12650 with unit cell dimensions [92.83178 92.83178 92.83178 90.      90.      90.     ] >\n",
      "< Timestep 12660 with unit cell dimensions [92.83178 92.83178 92.83178 90.      90.      90.     ] >\n",
      "< Timestep 12670 with unit cell dimensions [92.83178 92.83178 92.83178 90.      90.      90.     ] >\n",
      "< Timestep 12680 with unit cell dimensions [92.83178 92.83178 92.83178 90.      90.      90.     ] >\n",
      "< Timestep 12690 with unit cell dimensions [92.83178 92.83178 92.83178 90.      90.      90.     ] >\n",
      "< Timestep 12700 with unit cell dimensions [92.83178 92.83178 92.83178 90.      90.      90.     ] >\n",
      "< Timestep 12710 with unit cell dimensions [92.83178 92.83178 92.83178 90.      90.      90.     ] >\n",
      "< Timestep 12720 with unit cell dimensions [92.83178 92.83178 92.83178 90.      90.      90.     ] >\n",
      "< Timestep 12730 with unit cell dimensions [92.83178 92.83178 92.83178 90.      90.      90.     ] >\n",
      "< Timestep 12740 with unit cell dimensions [92.83178 92.83178 92.83178 90.      90.      90.     ] >\n",
      "< Timestep 12750 with unit cell dimensions [92.83178 92.83178 92.83178 90.      90.      90.     ] >\n",
      "< Timestep 12760 with unit cell dimensions [92.83178 92.83178 92.83178 90.      90.      90.     ] >\n",
      "< Timestep 12770 with unit cell dimensions [92.83178 92.83178 92.83178 90.      90.      90.     ] >\n",
      "< Timestep 12780 with unit cell dimensions [92.83178 92.83178 92.83178 90.      90.      90.     ] >\n",
      "< Timestep 12790 with unit cell dimensions [92.83178 92.83178 92.83178 90.      90.      90.     ] >\n",
      "< Timestep 12800 with unit cell dimensions [92.83178 92.83178 92.83178 90.      90.      90.     ] >\n",
      "< Timestep 12810 with unit cell dimensions [92.83178 92.83178 92.83178 90.      90.      90.     ] >\n",
      "< Timestep 12820 with unit cell dimensions [92.83178 92.83178 92.83178 90.      90.      90.     ] >\n",
      "< Timestep 12830 with unit cell dimensions [92.83178 92.83178 92.83178 90.      90.      90.     ] >\n",
      "< Timestep 12840 with unit cell dimensions [92.83178 92.83178 92.83178 90.      90.      90.     ] >\n",
      "< Timestep 12850 with unit cell dimensions [92.83178 92.83178 92.83178 90.      90.      90.     ] >\n",
      "< Timestep 12860 with unit cell dimensions [92.83178 92.83178 92.83178 90.      90.      90.     ] >\n",
      "< Timestep 12870 with unit cell dimensions [92.83178 92.83178 92.83178 90.      90.      90.     ] >\n",
      "< Timestep 12880 with unit cell dimensions [92.83178 92.83178 92.83178 90.      90.      90.     ] >\n",
      "< Timestep 12890 with unit cell dimensions [92.83178 92.83178 92.83178 90.      90.      90.     ] >\n"
     ]
    },
    {
     "name": "stdout",
     "output_type": "stream",
     "text": [
      "< Timestep 12900 with unit cell dimensions [92.83178 92.83178 92.83178 90.      90.      90.     ] >\n",
      "< Timestep 12910 with unit cell dimensions [92.83178 92.83178 92.83178 90.      90.      90.     ] >\n",
      "< Timestep 12920 with unit cell dimensions [92.83178 92.83178 92.83178 90.      90.      90.     ] >\n",
      "< Timestep 12930 with unit cell dimensions [92.83178 92.83178 92.83178 90.      90.      90.     ] >\n",
      "< Timestep 12940 with unit cell dimensions [92.83178 92.83178 92.83178 90.      90.      90.     ] >\n",
      "< Timestep 12950 with unit cell dimensions [92.83178 92.83178 92.83178 90.      90.      90.     ] >\n",
      "< Timestep 12960 with unit cell dimensions [92.83178 92.83178 92.83178 90.      90.      90.     ] >\n",
      "< Timestep 12970 with unit cell dimensions [92.83178 92.83178 92.83178 90.      90.      90.     ] >\n",
      "< Timestep 12980 with unit cell dimensions [92.83178 92.83178 92.83178 90.      90.      90.     ] >\n",
      "< Timestep 12990 with unit cell dimensions [92.83178 92.83178 92.83178 90.      90.      90.     ] >\n",
      "< Timestep 13000 with unit cell dimensions [92.83178 92.83178 92.83178 90.      90.      90.     ] >\n",
      "< Timestep 13010 with unit cell dimensions [92.83178 92.83178 92.83178 90.      90.      90.     ] >\n",
      "< Timestep 13020 with unit cell dimensions [92.83178 92.83178 92.83178 90.      90.      90.     ] >\n",
      "< Timestep 13030 with unit cell dimensions [92.83178 92.83178 92.83178 90.      90.      90.     ] >\n",
      "< Timestep 13040 with unit cell dimensions [92.83178 92.83178 92.83178 90.      90.      90.     ] >\n",
      "< Timestep 13050 with unit cell dimensions [92.83178 92.83178 92.83178 90.      90.      90.     ] >\n",
      "< Timestep 13060 with unit cell dimensions [92.83178 92.83178 92.83178 90.      90.      90.     ] >\n",
      "< Timestep 13070 with unit cell dimensions [92.83178 92.83178 92.83178 90.      90.      90.     ] >\n",
      "< Timestep 13080 with unit cell dimensions [92.83178 92.83178 92.83178 90.      90.      90.     ] >\n",
      "< Timestep 13090 with unit cell dimensions [92.83178 92.83178 92.83178 90.      90.      90.     ] >\n",
      "< Timestep 13100 with unit cell dimensions [92.83178 92.83178 92.83178 90.      90.      90.     ] >\n",
      "< Timestep 13110 with unit cell dimensions [92.83178 92.83178 92.83178 90.      90.      90.     ] >\n",
      "< Timestep 13120 with unit cell dimensions [92.83178 92.83178 92.83178 90.      90.      90.     ] >\n",
      "< Timestep 13130 with unit cell dimensions [92.83178 92.83178 92.83178 90.      90.      90.     ] >\n",
      "< Timestep 13140 with unit cell dimensions [92.83178 92.83178 92.83178 90.      90.      90.     ] >\n",
      "< Timestep 13150 with unit cell dimensions [92.83178 92.83178 92.83178 90.      90.      90.     ] >\n",
      "< Timestep 13160 with unit cell dimensions [92.83178 92.83178 92.83178 90.      90.      90.     ] >\n",
      "< Timestep 13170 with unit cell dimensions [92.83178 92.83178 92.83178 90.      90.      90.     ] >\n",
      "< Timestep 13180 with unit cell dimensions [92.83178 92.83178 92.83178 90.      90.      90.     ] >\n",
      "< Timestep 13190 with unit cell dimensions [92.83178 92.83178 92.83178 90.      90.      90.     ] >\n",
      "< Timestep 13200 with unit cell dimensions [92.83178 92.83178 92.83178 90.      90.      90.     ] >\n",
      "< Timestep 13210 with unit cell dimensions [92.83178 92.83178 92.83178 90.      90.      90.     ] >\n",
      "< Timestep 13220 with unit cell dimensions [92.83178 92.83178 92.83178 90.      90.      90.     ] >\n",
      "< Timestep 13230 with unit cell dimensions [92.83178 92.83178 92.83178 90.      90.      90.     ] >\n",
      "< Timestep 13240 with unit cell dimensions [92.83178 92.83178 92.83178 90.      90.      90.     ] >\n",
      "< Timestep 13250 with unit cell dimensions [92.83178 92.83178 92.83178 90.      90.      90.     ] >\n",
      "< Timestep 13260 with unit cell dimensions [92.83178 92.83178 92.83178 90.      90.      90.     ] >\n",
      "< Timestep 13270 with unit cell dimensions [92.83178 92.83178 92.83178 90.      90.      90.     ] >\n",
      "< Timestep 13280 with unit cell dimensions [92.83178 92.83178 92.83178 90.      90.      90.     ] >\n",
      "< Timestep 13290 with unit cell dimensions [92.83178 92.83178 92.83178 90.      90.      90.     ] >\n",
      "< Timestep 13300 with unit cell dimensions [92.83178 92.83178 92.83178 90.      90.      90.     ] >\n",
      "< Timestep 13310 with unit cell dimensions [92.83178 92.83178 92.83178 90.      90.      90.     ] >\n",
      "< Timestep 13320 with unit cell dimensions [92.83178 92.83178 92.83178 90.      90.      90.     ] >\n",
      "< Timestep 13330 with unit cell dimensions [92.83178 92.83178 92.83178 90.      90.      90.     ] >\n",
      "< Timestep 13340 with unit cell dimensions [92.83178 92.83178 92.83178 90.      90.      90.     ] >\n",
      "< Timestep 13350 with unit cell dimensions [92.83178 92.83178 92.83178 90.      90.      90.     ] >\n",
      "< Timestep 13360 with unit cell dimensions [92.83178 92.83178 92.83178 90.      90.      90.     ] >\n",
      "< Timestep 13370 with unit cell dimensions [92.83178 92.83178 92.83178 90.      90.      90.     ] >\n",
      "< Timestep 13380 with unit cell dimensions [92.83178 92.83178 92.83178 90.      90.      90.     ] >\n",
      "< Timestep 13390 with unit cell dimensions [92.83178 92.83178 92.83178 90.      90.      90.     ] >\n",
      "< Timestep 13400 with unit cell dimensions [92.83178 92.83178 92.83178 90.      90.      90.     ] >\n",
      "< Timestep 13410 with unit cell dimensions [92.83178 92.83178 92.83178 90.      90.      90.     ] >\n",
      "< Timestep 13420 with unit cell dimensions [92.83178 92.83178 92.83178 90.      90.      90.     ] >\n",
      "< Timestep 13430 with unit cell dimensions [92.83178 92.83178 92.83178 90.      90.      90.     ] >\n",
      "< Timestep 13440 with unit cell dimensions [92.83178 92.83178 92.83178 90.      90.      90.     ] >\n",
      "< Timestep 13450 with unit cell dimensions [92.83178 92.83178 92.83178 90.      90.      90.     ] >\n",
      "< Timestep 13460 with unit cell dimensions [92.83178 92.83178 92.83178 90.      90.      90.     ] >\n",
      "< Timestep 13470 with unit cell dimensions [92.83178 92.83178 92.83178 90.      90.      90.     ] >\n",
      "< Timestep 13480 with unit cell dimensions [92.83178 92.83178 92.83178 90.      90.      90.     ] >\n",
      "< Timestep 13490 with unit cell dimensions [92.83178 92.83178 92.83178 90.      90.      90.     ] >\n",
      "< Timestep 13500 with unit cell dimensions [92.83178 92.83178 92.83178 90.      90.      90.     ] >\n",
      "< Timestep 13510 with unit cell dimensions [92.83178 92.83178 92.83178 90.      90.      90.     ] >\n",
      "< Timestep 13520 with unit cell dimensions [92.83178 92.83178 92.83178 90.      90.      90.     ] >\n",
      "< Timestep 13530 with unit cell dimensions [92.83178 92.83178 92.83178 90.      90.      90.     ] >\n",
      "< Timestep 13540 with unit cell dimensions [92.83178 92.83178 92.83178 90.      90.      90.     ] >\n",
      "< Timestep 13550 with unit cell dimensions [92.83178 92.83178 92.83178 90.      90.      90.     ] >\n",
      "< Timestep 13560 with unit cell dimensions [92.83178 92.83178 92.83178 90.      90.      90.     ] >\n",
      "< Timestep 13570 with unit cell dimensions [92.83178 92.83178 92.83178 90.      90.      90.     ] >\n",
      "< Timestep 13580 with unit cell dimensions [92.83178 92.83178 92.83178 90.      90.      90.     ] >\n",
      "< Timestep 13590 with unit cell dimensions [92.83178 92.83178 92.83178 90.      90.      90.     ] >\n",
      "< Timestep 13600 with unit cell dimensions [92.83178 92.83178 92.83178 90.      90.      90.     ] >\n",
      "< Timestep 13610 with unit cell dimensions [92.83178 92.83178 92.83178 90.      90.      90.     ] >\n",
      "< Timestep 13620 with unit cell dimensions [92.83178 92.83178 92.83178 90.      90.      90.     ] >\n",
      "< Timestep 13630 with unit cell dimensions [92.83178 92.83178 92.83178 90.      90.      90.     ] >\n",
      "< Timestep 13640 with unit cell dimensions [92.83178 92.83178 92.83178 90.      90.      90.     ] >\n",
      "< Timestep 13650 with unit cell dimensions [92.83178 92.83178 92.83178 90.      90.      90.     ] >\n",
      "< Timestep 13660 with unit cell dimensions [92.83178 92.83178 92.83178 90.      90.      90.     ] >\n",
      "< Timestep 13670 with unit cell dimensions [92.83178 92.83178 92.83178 90.      90.      90.     ] >\n",
      "< Timestep 13680 with unit cell dimensions [92.83178 92.83178 92.83178 90.      90.      90.     ] >\n",
      "< Timestep 13690 with unit cell dimensions [92.83178 92.83178 92.83178 90.      90.      90.     ] >\n",
      "< Timestep 13700 with unit cell dimensions [92.83178 92.83178 92.83178 90.      90.      90.     ] >\n",
      "< Timestep 13710 with unit cell dimensions [92.83178 92.83178 92.83178 90.      90.      90.     ] >\n",
      "< Timestep 13720 with unit cell dimensions [92.83178 92.83178 92.83178 90.      90.      90.     ] >\n",
      "< Timestep 13730 with unit cell dimensions [92.83178 92.83178 92.83178 90.      90.      90.     ] >\n",
      "< Timestep 13740 with unit cell dimensions [92.83178 92.83178 92.83178 90.      90.      90.     ] >\n",
      "< Timestep 13750 with unit cell dimensions [92.83178 92.83178 92.83178 90.      90.      90.     ] >\n",
      "< Timestep 13760 with unit cell dimensions [92.83178 92.83178 92.83178 90.      90.      90.     ] >\n"
     ]
    },
    {
     "name": "stdout",
     "output_type": "stream",
     "text": [
      "< Timestep 13770 with unit cell dimensions [92.83178 92.83178 92.83178 90.      90.      90.     ] >\n",
      "< Timestep 13780 with unit cell dimensions [92.83178 92.83178 92.83178 90.      90.      90.     ] >\n",
      "< Timestep 13790 with unit cell dimensions [92.83178 92.83178 92.83178 90.      90.      90.     ] >\n",
      "< Timestep 13800 with unit cell dimensions [92.83178 92.83178 92.83178 90.      90.      90.     ] >\n",
      "< Timestep 13810 with unit cell dimensions [92.83178 92.83178 92.83178 90.      90.      90.     ] >\n",
      "< Timestep 13820 with unit cell dimensions [92.83178 92.83178 92.83178 90.      90.      90.     ] >\n",
      "< Timestep 13830 with unit cell dimensions [92.83178 92.83178 92.83178 90.      90.      90.     ] >\n",
      "< Timestep 13840 with unit cell dimensions [92.83178 92.83178 92.83178 90.      90.      90.     ] >\n",
      "< Timestep 13850 with unit cell dimensions [92.83178 92.83178 92.83178 90.      90.      90.     ] >\n",
      "< Timestep 13860 with unit cell dimensions [92.83178 92.83178 92.83178 90.      90.      90.     ] >\n",
      "< Timestep 13870 with unit cell dimensions [92.83178 92.83178 92.83178 90.      90.      90.     ] >\n",
      "< Timestep 13880 with unit cell dimensions [92.83178 92.83178 92.83178 90.      90.      90.     ] >\n",
      "< Timestep 13890 with unit cell dimensions [92.83178 92.83178 92.83178 90.      90.      90.     ] >\n",
      "< Timestep 13900 with unit cell dimensions [92.83178 92.83178 92.83178 90.      90.      90.     ] >\n",
      "< Timestep 13910 with unit cell dimensions [92.83178 92.83178 92.83178 90.      90.      90.     ] >\n",
      "< Timestep 13920 with unit cell dimensions [92.83178 92.83178 92.83178 90.      90.      90.     ] >\n",
      "< Timestep 13930 with unit cell dimensions [92.83178 92.83178 92.83178 90.      90.      90.     ] >\n",
      "< Timestep 13940 with unit cell dimensions [92.83178 92.83178 92.83178 90.      90.      90.     ] >\n",
      "< Timestep 13950 with unit cell dimensions [92.83178 92.83178 92.83178 90.      90.      90.     ] >\n",
      "< Timestep 13960 with unit cell dimensions [92.83178 92.83178 92.83178 90.      90.      90.     ] >\n",
      "< Timestep 13970 with unit cell dimensions [92.83178 92.83178 92.83178 90.      90.      90.     ] >\n",
      "< Timestep 13980 with unit cell dimensions [92.83178 92.83178 92.83178 90.      90.      90.     ] >\n",
      "< Timestep 13990 with unit cell dimensions [92.83178 92.83178 92.83178 90.      90.      90.     ] >\n",
      "< Timestep 14000 with unit cell dimensions [92.83178 92.83178 92.83178 90.      90.      90.     ] >\n",
      "< Timestep 14010 with unit cell dimensions [92.83178 92.83178 92.83178 90.      90.      90.     ] >\n",
      "< Timestep 14020 with unit cell dimensions [92.83178 92.83178 92.83178 90.      90.      90.     ] >\n",
      "< Timestep 14030 with unit cell dimensions [92.83178 92.83178 92.83178 90.      90.      90.     ] >\n",
      "< Timestep 14040 with unit cell dimensions [92.83178 92.83178 92.83178 90.      90.      90.     ] >\n",
      "< Timestep 14050 with unit cell dimensions [92.83178 92.83178 92.83178 90.      90.      90.     ] >\n",
      "< Timestep 14060 with unit cell dimensions [92.83178 92.83178 92.83178 90.      90.      90.     ] >\n",
      "< Timestep 14070 with unit cell dimensions [92.83178 92.83178 92.83178 90.      90.      90.     ] >\n",
      "< Timestep 14080 with unit cell dimensions [92.83178 92.83178 92.83178 90.      90.      90.     ] >\n",
      "< Timestep 14090 with unit cell dimensions [92.83178 92.83178 92.83178 90.      90.      90.     ] >\n",
      "< Timestep 14100 with unit cell dimensions [92.83178 92.83178 92.83178 90.      90.      90.     ] >\n",
      "< Timestep 14110 with unit cell dimensions [92.83178 92.83178 92.83178 90.      90.      90.     ] >\n",
      "< Timestep 14120 with unit cell dimensions [92.83178 92.83178 92.83178 90.      90.      90.     ] >\n",
      "< Timestep 14130 with unit cell dimensions [92.83178 92.83178 92.83178 90.      90.      90.     ] >\n",
      "< Timestep 14140 with unit cell dimensions [92.83178 92.83178 92.83178 90.      90.      90.     ] >\n",
      "< Timestep 14150 with unit cell dimensions [92.83178 92.83178 92.83178 90.      90.      90.     ] >\n",
      "< Timestep 14160 with unit cell dimensions [92.83178 92.83178 92.83178 90.      90.      90.     ] >\n",
      "< Timestep 14170 with unit cell dimensions [92.83178 92.83178 92.83178 90.      90.      90.     ] >\n",
      "< Timestep 14180 with unit cell dimensions [92.83178 92.83178 92.83178 90.      90.      90.     ] >\n",
      "< Timestep 14190 with unit cell dimensions [92.83178 92.83178 92.83178 90.      90.      90.     ] >\n",
      "< Timestep 14200 with unit cell dimensions [92.83178 92.83178 92.83178 90.      90.      90.     ] >\n",
      "< Timestep 14210 with unit cell dimensions [92.83178 92.83178 92.83178 90.      90.      90.     ] >\n",
      "< Timestep 14220 with unit cell dimensions [92.83178 92.83178 92.83178 90.      90.      90.     ] >\n",
      "< Timestep 14230 with unit cell dimensions [92.83178 92.83178 92.83178 90.      90.      90.     ] >\n",
      "< Timestep 14240 with unit cell dimensions [92.83178 92.83178 92.83178 90.      90.      90.     ] >\n",
      "< Timestep 14250 with unit cell dimensions [92.83178 92.83178 92.83178 90.      90.      90.     ] >\n",
      "< Timestep 14260 with unit cell dimensions [92.83178 92.83178 92.83178 90.      90.      90.     ] >\n",
      "< Timestep 14270 with unit cell dimensions [92.83178 92.83178 92.83178 90.      90.      90.     ] >\n",
      "< Timestep 14280 with unit cell dimensions [92.83178 92.83178 92.83178 90.      90.      90.     ] >\n",
      "< Timestep 14290 with unit cell dimensions [92.83178 92.83178 92.83178 90.      90.      90.     ] >\n",
      "< Timestep 14300 with unit cell dimensions [92.83178 92.83178 92.83178 90.      90.      90.     ] >\n",
      "< Timestep 14310 with unit cell dimensions [92.83178 92.83178 92.83178 90.      90.      90.     ] >\n",
      "< Timestep 14320 with unit cell dimensions [92.83178 92.83178 92.83178 90.      90.      90.     ] >\n",
      "< Timestep 14330 with unit cell dimensions [92.83178 92.83178 92.83178 90.      90.      90.     ] >\n",
      "< Timestep 14340 with unit cell dimensions [92.83178 92.83178 92.83178 90.      90.      90.     ] >\n",
      "< Timestep 14350 with unit cell dimensions [92.83178 92.83178 92.83178 90.      90.      90.     ] >\n",
      "< Timestep 14360 with unit cell dimensions [92.83178 92.83178 92.83178 90.      90.      90.     ] >\n",
      "< Timestep 14370 with unit cell dimensions [92.83178 92.83178 92.83178 90.      90.      90.     ] >\n",
      "< Timestep 14380 with unit cell dimensions [92.83178 92.83178 92.83178 90.      90.      90.     ] >\n",
      "< Timestep 14390 with unit cell dimensions [92.83178 92.83178 92.83178 90.      90.      90.     ] >\n",
      "< Timestep 14400 with unit cell dimensions [92.83178 92.83178 92.83178 90.      90.      90.     ] >\n",
      "< Timestep 14410 with unit cell dimensions [92.83178 92.83178 92.83178 90.      90.      90.     ] >\n",
      "< Timestep 14420 with unit cell dimensions [92.83178 92.83178 92.83178 90.      90.      90.     ] >\n",
      "< Timestep 14430 with unit cell dimensions [92.83178 92.83178 92.83178 90.      90.      90.     ] >\n",
      "< Timestep 14440 with unit cell dimensions [92.83178 92.83178 92.83178 90.      90.      90.     ] >\n",
      "< Timestep 14450 with unit cell dimensions [92.83178 92.83178 92.83178 90.      90.      90.     ] >\n",
      "< Timestep 14460 with unit cell dimensions [92.83178 92.83178 92.83178 90.      90.      90.     ] >\n",
      "< Timestep 14470 with unit cell dimensions [92.83178 92.83178 92.83178 90.      90.      90.     ] >\n",
      "< Timestep 14480 with unit cell dimensions [92.83178 92.83178 92.83178 90.      90.      90.     ] >\n",
      "< Timestep 14490 with unit cell dimensions [92.83178 92.83178 92.83178 90.      90.      90.     ] >\n",
      "< Timestep 14500 with unit cell dimensions [92.83178 92.83178 92.83178 90.      90.      90.     ] >\n",
      "< Timestep 14510 with unit cell dimensions [92.83178 92.83178 92.83178 90.      90.      90.     ] >\n",
      "< Timestep 14520 with unit cell dimensions [92.83178 92.83178 92.83178 90.      90.      90.     ] >\n",
      "< Timestep 14530 with unit cell dimensions [92.83178 92.83178 92.83178 90.      90.      90.     ] >\n",
      "< Timestep 14540 with unit cell dimensions [92.83178 92.83178 92.83178 90.      90.      90.     ] >\n",
      "< Timestep 14550 with unit cell dimensions [92.83178 92.83178 92.83178 90.      90.      90.     ] >\n",
      "< Timestep 14560 with unit cell dimensions [92.83178 92.83178 92.83178 90.      90.      90.     ] >\n",
      "< Timestep 14570 with unit cell dimensions [92.83178 92.83178 92.83178 90.      90.      90.     ] >\n",
      "< Timestep 14580 with unit cell dimensions [92.83178 92.83178 92.83178 90.      90.      90.     ] >\n",
      "< Timestep 14590 with unit cell dimensions [92.83178 92.83178 92.83178 90.      90.      90.     ] >\n",
      "< Timestep 14600 with unit cell dimensions [92.83178 92.83178 92.83178 90.      90.      90.     ] >\n",
      "< Timestep 14610 with unit cell dimensions [92.83178 92.83178 92.83178 90.      90.      90.     ] >\n",
      "< Timestep 14620 with unit cell dimensions [92.83178 92.83178 92.83178 90.      90.      90.     ] >\n",
      "< Timestep 14630 with unit cell dimensions [92.83178 92.83178 92.83178 90.      90.      90.     ] >\n",
      "< Timestep 14640 with unit cell dimensions [92.83178 92.83178 92.83178 90.      90.      90.     ] >\n",
      "< Timestep 14650 with unit cell dimensions [92.83178 92.83178 92.83178 90.      90.      90.     ] >\n",
      "< Timestep 14660 with unit cell dimensions [92.83178 92.83178 92.83178 90.      90.      90.     ] >\n",
      "< Timestep 14670 with unit cell dimensions [92.83178 92.83178 92.83178 90.      90.      90.     ] >\n",
      "< Timestep 14680 with unit cell dimensions [92.83178 92.83178 92.83178 90.      90.      90.     ] >\n",
      "< Timestep 14690 with unit cell dimensions [92.83178 92.83178 92.83178 90.      90.      90.     ] >\n",
      "< Timestep 14700 with unit cell dimensions [92.83178 92.83178 92.83178 90.      90.      90.     ] >\n",
      "< Timestep 14710 with unit cell dimensions [92.83178 92.83178 92.83178 90.      90.      90.     ] >\n"
     ]
    },
    {
     "name": "stdout",
     "output_type": "stream",
     "text": [
      "< Timestep 14720 with unit cell dimensions [92.83178 92.83178 92.83178 90.      90.      90.     ] >\n",
      "< Timestep 14730 with unit cell dimensions [92.83178 92.83178 92.83178 90.      90.      90.     ] >\n",
      "< Timestep 14740 with unit cell dimensions [92.83178 92.83178 92.83178 90.      90.      90.     ] >\n",
      "< Timestep 14750 with unit cell dimensions [92.83178 92.83178 92.83178 90.      90.      90.     ] >\n",
      "< Timestep 14760 with unit cell dimensions [92.83178 92.83178 92.83178 90.      90.      90.     ] >\n",
      "< Timestep 14770 with unit cell dimensions [92.83178 92.83178 92.83178 90.      90.      90.     ] >\n",
      "< Timestep 14780 with unit cell dimensions [92.83178 92.83178 92.83178 90.      90.      90.     ] >\n",
      "< Timestep 14790 with unit cell dimensions [92.83178 92.83178 92.83178 90.      90.      90.     ] >\n",
      "< Timestep 14800 with unit cell dimensions [92.83178 92.83178 92.83178 90.      90.      90.     ] >\n",
      "< Timestep 14810 with unit cell dimensions [92.83178 92.83178 92.83178 90.      90.      90.     ] >\n",
      "< Timestep 14820 with unit cell dimensions [92.83178 92.83178 92.83178 90.      90.      90.     ] >\n",
      "< Timestep 14830 with unit cell dimensions [92.83178 92.83178 92.83178 90.      90.      90.     ] >\n",
      "< Timestep 14840 with unit cell dimensions [92.83178 92.83178 92.83178 90.      90.      90.     ] >\n",
      "< Timestep 14850 with unit cell dimensions [92.83178 92.83178 92.83178 90.      90.      90.     ] >\n",
      "< Timestep 14860 with unit cell dimensions [92.83178 92.83178 92.83178 90.      90.      90.     ] >\n",
      "< Timestep 14870 with unit cell dimensions [92.83178 92.83178 92.83178 90.      90.      90.     ] >\n",
      "< Timestep 14880 with unit cell dimensions [92.83178 92.83178 92.83178 90.      90.      90.     ] >\n",
      "< Timestep 14890 with unit cell dimensions [92.83178 92.83178 92.83178 90.      90.      90.     ] >\n",
      "< Timestep 14900 with unit cell dimensions [92.83178 92.83178 92.83178 90.      90.      90.     ] >\n",
      "< Timestep 14910 with unit cell dimensions [92.83178 92.83178 92.83178 90.      90.      90.     ] >\n",
      "< Timestep 14920 with unit cell dimensions [92.83178 92.83178 92.83178 90.      90.      90.     ] >\n",
      "< Timestep 14930 with unit cell dimensions [92.83178 92.83178 92.83178 90.      90.      90.     ] >\n",
      "< Timestep 14940 with unit cell dimensions [92.83178 92.83178 92.83178 90.      90.      90.     ] >\n",
      "< Timestep 14950 with unit cell dimensions [92.83178 92.83178 92.83178 90.      90.      90.     ] >\n",
      "< Timestep 14960 with unit cell dimensions [92.83178 92.83178 92.83178 90.      90.      90.     ] >\n",
      "< Timestep 14970 with unit cell dimensions [92.83178 92.83178 92.83178 90.      90.      90.     ] >\n",
      "< Timestep 14980 with unit cell dimensions [92.83178 92.83178 92.83178 90.      90.      90.     ] >\n",
      "< Timestep 14990 with unit cell dimensions [92.83178 92.83178 92.83178 90.      90.      90.     ] >\n",
      "< Timestep 15000 with unit cell dimensions [92.83178 92.83178 92.83178 90.      90.      90.     ] >\n",
      "< Timestep 15010 with unit cell dimensions [92.83178 92.83178 92.83178 90.      90.      90.     ] >\n",
      "< Timestep 15020 with unit cell dimensions [92.83178 92.83178 92.83178 90.      90.      90.     ] >\n",
      "< Timestep 15030 with unit cell dimensions [92.83178 92.83178 92.83178 90.      90.      90.     ] >\n",
      "< Timestep 15040 with unit cell dimensions [92.83178 92.83178 92.83178 90.      90.      90.     ] >\n",
      "< Timestep 15050 with unit cell dimensions [92.83178 92.83178 92.83178 90.      90.      90.     ] >\n",
      "< Timestep 15060 with unit cell dimensions [92.83178 92.83178 92.83178 90.      90.      90.     ] >\n",
      "< Timestep 15070 with unit cell dimensions [92.83178 92.83178 92.83178 90.      90.      90.     ] >\n",
      "< Timestep 15080 with unit cell dimensions [92.83178 92.83178 92.83178 90.      90.      90.     ] >\n",
      "< Timestep 15090 with unit cell dimensions [92.83178 92.83178 92.83178 90.      90.      90.     ] >\n",
      "< Timestep 15100 with unit cell dimensions [92.83178 92.83178 92.83178 90.      90.      90.     ] >\n",
      "< Timestep 15110 with unit cell dimensions [92.83178 92.83178 92.83178 90.      90.      90.     ] >\n",
      "< Timestep 15120 with unit cell dimensions [92.83178 92.83178 92.83178 90.      90.      90.     ] >\n",
      "< Timestep 15130 with unit cell dimensions [92.83178 92.83178 92.83178 90.      90.      90.     ] >\n",
      "< Timestep 15140 with unit cell dimensions [92.83178 92.83178 92.83178 90.      90.      90.     ] >\n",
      "< Timestep 15150 with unit cell dimensions [92.83178 92.83178 92.83178 90.      90.      90.     ] >\n",
      "< Timestep 15160 with unit cell dimensions [92.83178 92.83178 92.83178 90.      90.      90.     ] >\n",
      "< Timestep 15170 with unit cell dimensions [92.83178 92.83178 92.83178 90.      90.      90.     ] >\n",
      "< Timestep 15180 with unit cell dimensions [92.83178 92.83178 92.83178 90.      90.      90.     ] >\n",
      "< Timestep 15190 with unit cell dimensions [92.83178 92.83178 92.83178 90.      90.      90.     ] >\n",
      "< Timestep 15200 with unit cell dimensions [92.83178 92.83178 92.83178 90.      90.      90.     ] >\n",
      "< Timestep 15210 with unit cell dimensions [92.83178 92.83178 92.83178 90.      90.      90.     ] >\n",
      "< Timestep 15220 with unit cell dimensions [92.83178 92.83178 92.83178 90.      90.      90.     ] >\n",
      "< Timestep 15230 with unit cell dimensions [92.83178 92.83178 92.83178 90.      90.      90.     ] >\n",
      "< Timestep 15240 with unit cell dimensions [92.83178 92.83178 92.83178 90.      90.      90.     ] >\n",
      "< Timestep 15250 with unit cell dimensions [92.83178 92.83178 92.83178 90.      90.      90.     ] >\n",
      "< Timestep 15260 with unit cell dimensions [92.83178 92.83178 92.83178 90.      90.      90.     ] >\n",
      "< Timestep 15270 with unit cell dimensions [92.83178 92.83178 92.83178 90.      90.      90.     ] >\n",
      "< Timestep 15280 with unit cell dimensions [92.83178 92.83178 92.83178 90.      90.      90.     ] >\n",
      "< Timestep 15290 with unit cell dimensions [92.83178 92.83178 92.83178 90.      90.      90.     ] >\n",
      "< Timestep 15300 with unit cell dimensions [92.83178 92.83178 92.83178 90.      90.      90.     ] >\n",
      "< Timestep 15310 with unit cell dimensions [92.83178 92.83178 92.83178 90.      90.      90.     ] >\n",
      "< Timestep 15320 with unit cell dimensions [92.83178 92.83178 92.83178 90.      90.      90.     ] >\n",
      "< Timestep 15330 with unit cell dimensions [92.83178 92.83178 92.83178 90.      90.      90.     ] >\n",
      "< Timestep 15340 with unit cell dimensions [92.83178 92.83178 92.83178 90.      90.      90.     ] >\n",
      "< Timestep 15350 with unit cell dimensions [92.83178 92.83178 92.83178 90.      90.      90.     ] >\n",
      "< Timestep 15360 with unit cell dimensions [92.83178 92.83178 92.83178 90.      90.      90.     ] >\n",
      "< Timestep 15370 with unit cell dimensions [92.83178 92.83178 92.83178 90.      90.      90.     ] >\n",
      "< Timestep 15380 with unit cell dimensions [92.83178 92.83178 92.83178 90.      90.      90.     ] >\n",
      "< Timestep 15390 with unit cell dimensions [92.83178 92.83178 92.83178 90.      90.      90.     ] >\n",
      "< Timestep 15400 with unit cell dimensions [92.83178 92.83178 92.83178 90.      90.      90.     ] >\n",
      "< Timestep 15410 with unit cell dimensions [92.83178 92.83178 92.83178 90.      90.      90.     ] >\n",
      "< Timestep 15420 with unit cell dimensions [92.83178 92.83178 92.83178 90.      90.      90.     ] >\n",
      "< Timestep 15430 with unit cell dimensions [92.83178 92.83178 92.83178 90.      90.      90.     ] >\n",
      "< Timestep 15440 with unit cell dimensions [92.83178 92.83178 92.83178 90.      90.      90.     ] >\n",
      "< Timestep 15450 with unit cell dimensions [92.83178 92.83178 92.83178 90.      90.      90.     ] >\n",
      "< Timestep 15460 with unit cell dimensions [92.83178 92.83178 92.83178 90.      90.      90.     ] >\n",
      "< Timestep 15470 with unit cell dimensions [92.83178 92.83178 92.83178 90.      90.      90.     ] >\n",
      "< Timestep 15480 with unit cell dimensions [92.83178 92.83178 92.83178 90.      90.      90.     ] >\n",
      "< Timestep 15490 with unit cell dimensions [92.83178 92.83178 92.83178 90.      90.      90.     ] >\n",
      "< Timestep 15500 with unit cell dimensions [92.83178 92.83178 92.83178 90.      90.      90.     ] >\n",
      "< Timestep 15510 with unit cell dimensions [92.83178 92.83178 92.83178 90.      90.      90.     ] >\n",
      "< Timestep 15520 with unit cell dimensions [92.83178 92.83178 92.83178 90.      90.      90.     ] >\n",
      "< Timestep 15530 with unit cell dimensions [92.83178 92.83178 92.83178 90.      90.      90.     ] >\n",
      "< Timestep 15540 with unit cell dimensions [92.83178 92.83178 92.83178 90.      90.      90.     ] >\n"
     ]
    },
    {
     "name": "stdout",
     "output_type": "stream",
     "text": [
      "< Timestep 15550 with unit cell dimensions [92.83178 92.83178 92.83178 90.      90.      90.     ] >\n",
      "< Timestep 15560 with unit cell dimensions [92.83178 92.83178 92.83178 90.      90.      90.     ] >\n",
      "< Timestep 15570 with unit cell dimensions [92.83178 92.83178 92.83178 90.      90.      90.     ] >\n",
      "< Timestep 15580 with unit cell dimensions [92.83178 92.83178 92.83178 90.      90.      90.     ] >\n",
      "< Timestep 15590 with unit cell dimensions [92.83178 92.83178 92.83178 90.      90.      90.     ] >\n",
      "< Timestep 15600 with unit cell dimensions [92.83178 92.83178 92.83178 90.      90.      90.     ] >\n",
      "< Timestep 15610 with unit cell dimensions [92.83178 92.83178 92.83178 90.      90.      90.     ] >\n",
      "< Timestep 15620 with unit cell dimensions [92.83178 92.83178 92.83178 90.      90.      90.     ] >\n",
      "< Timestep 15630 with unit cell dimensions [92.83178 92.83178 92.83178 90.      90.      90.     ] >\n",
      "< Timestep 15640 with unit cell dimensions [92.83178 92.83178 92.83178 90.      90.      90.     ] >\n",
      "< Timestep 15650 with unit cell dimensions [92.83178 92.83178 92.83178 90.      90.      90.     ] >\n",
      "< Timestep 15660 with unit cell dimensions [92.83178 92.83178 92.83178 90.      90.      90.     ] >\n",
      "< Timestep 15670 with unit cell dimensions [92.83178 92.83178 92.83178 90.      90.      90.     ] >\n",
      "< Timestep 15680 with unit cell dimensions [92.83178 92.83178 92.83178 90.      90.      90.     ] >\n",
      "< Timestep 15690 with unit cell dimensions [92.83178 92.83178 92.83178 90.      90.      90.     ] >\n",
      "< Timestep 15700 with unit cell dimensions [92.83178 92.83178 92.83178 90.      90.      90.     ] >\n",
      "< Timestep 15710 with unit cell dimensions [92.83178 92.83178 92.83178 90.      90.      90.     ] >\n",
      "< Timestep 15720 with unit cell dimensions [92.83178 92.83178 92.83178 90.      90.      90.     ] >\n",
      "< Timestep 15730 with unit cell dimensions [92.83178 92.83178 92.83178 90.      90.      90.     ] >\n",
      "< Timestep 15740 with unit cell dimensions [92.83178 92.83178 92.83178 90.      90.      90.     ] >\n",
      "< Timestep 15750 with unit cell dimensions [92.83178 92.83178 92.83178 90.      90.      90.     ] >\n",
      "< Timestep 15760 with unit cell dimensions [92.83178 92.83178 92.83178 90.      90.      90.     ] >\n",
      "< Timestep 15770 with unit cell dimensions [92.83178 92.83178 92.83178 90.      90.      90.     ] >\n",
      "< Timestep 15780 with unit cell dimensions [92.83178 92.83178 92.83178 90.      90.      90.     ] >\n",
      "< Timestep 15790 with unit cell dimensions [92.83178 92.83178 92.83178 90.      90.      90.     ] >\n",
      "< Timestep 15800 with unit cell dimensions [92.83178 92.83178 92.83178 90.      90.      90.     ] >\n",
      "< Timestep 15810 with unit cell dimensions [92.83178 92.83178 92.83178 90.      90.      90.     ] >\n",
      "< Timestep 15820 with unit cell dimensions [92.83178 92.83178 92.83178 90.      90.      90.     ] >\n",
      "< Timestep 15830 with unit cell dimensions [92.83178 92.83178 92.83178 90.      90.      90.     ] >\n",
      "< Timestep 15840 with unit cell dimensions [92.83178 92.83178 92.83178 90.      90.      90.     ] >\n",
      "< Timestep 15850 with unit cell dimensions [92.83178 92.83178 92.83178 90.      90.      90.     ] >\n",
      "< Timestep 15860 with unit cell dimensions [92.83178 92.83178 92.83178 90.      90.      90.     ] >\n",
      "< Timestep 15870 with unit cell dimensions [92.83178 92.83178 92.83178 90.      90.      90.     ] >\n",
      "< Timestep 15880 with unit cell dimensions [92.83178 92.83178 92.83178 90.      90.      90.     ] >\n",
      "< Timestep 15890 with unit cell dimensions [92.83178 92.83178 92.83178 90.      90.      90.     ] >\n",
      "< Timestep 15900 with unit cell dimensions [92.83178 92.83178 92.83178 90.      90.      90.     ] >\n",
      "< Timestep 15910 with unit cell dimensions [92.83178 92.83178 92.83178 90.      90.      90.     ] >\n",
      "< Timestep 15920 with unit cell dimensions [92.83178 92.83178 92.83178 90.      90.      90.     ] >\n",
      "< Timestep 15930 with unit cell dimensions [92.83178 92.83178 92.83178 90.      90.      90.     ] >\n",
      "< Timestep 15940 with unit cell dimensions [92.83178 92.83178 92.83178 90.      90.      90.     ] >\n",
      "< Timestep 15950 with unit cell dimensions [92.83178 92.83178 92.83178 90.      90.      90.     ] >\n",
      "< Timestep 15960 with unit cell dimensions [92.83178 92.83178 92.83178 90.      90.      90.     ] >\n",
      "< Timestep 15970 with unit cell dimensions [92.83178 92.83178 92.83178 90.      90.      90.     ] >\n",
      "< Timestep 15980 with unit cell dimensions [92.83178 92.83178 92.83178 90.      90.      90.     ] >\n",
      "< Timestep 15990 with unit cell dimensions [92.83178 92.83178 92.83178 90.      90.      90.     ] >\n",
      "< Timestep 16000 with unit cell dimensions [92.83178 92.83178 92.83178 90.      90.      90.     ] >\n",
      "< Timestep 16010 with unit cell dimensions [92.83178 92.83178 92.83178 90.      90.      90.     ] >\n",
      "< Timestep 16020 with unit cell dimensions [92.83178 92.83178 92.83178 90.      90.      90.     ] >\n",
      "< Timestep 16030 with unit cell dimensions [92.83178 92.83178 92.83178 90.      90.      90.     ] >\n",
      "< Timestep 16040 with unit cell dimensions [92.83178 92.83178 92.83178 90.      90.      90.     ] >\n",
      "< Timestep 16050 with unit cell dimensions [92.83178 92.83178 92.83178 90.      90.      90.     ] >\n",
      "< Timestep 16060 with unit cell dimensions [92.83178 92.83178 92.83178 90.      90.      90.     ] >\n",
      "< Timestep 16070 with unit cell dimensions [92.83178 92.83178 92.83178 90.      90.      90.     ] >\n",
      "< Timestep 16080 with unit cell dimensions [92.83178 92.83178 92.83178 90.      90.      90.     ] >\n",
      "< Timestep 16090 with unit cell dimensions [92.83178 92.83178 92.83178 90.      90.      90.     ] >\n",
      "< Timestep 16100 with unit cell dimensions [92.83178 92.83178 92.83178 90.      90.      90.     ] >\n",
      "< Timestep 16110 with unit cell dimensions [92.83178 92.83178 92.83178 90.      90.      90.     ] >\n",
      "< Timestep 16120 with unit cell dimensions [92.83178 92.83178 92.83178 90.      90.      90.     ] >\n",
      "< Timestep 16130 with unit cell dimensions [92.83178 92.83178 92.83178 90.      90.      90.     ] >\n",
      "< Timestep 16140 with unit cell dimensions [92.83178 92.83178 92.83178 90.      90.      90.     ] >\n",
      "< Timestep 16150 with unit cell dimensions [92.83178 92.83178 92.83178 90.      90.      90.     ] >\n",
      "< Timestep 16160 with unit cell dimensions [92.83178 92.83178 92.83178 90.      90.      90.     ] >\n",
      "< Timestep 16170 with unit cell dimensions [92.83178 92.83178 92.83178 90.      90.      90.     ] >\n",
      "< Timestep 16180 with unit cell dimensions [92.83178 92.83178 92.83178 90.      90.      90.     ] >\n",
      "< Timestep 16190 with unit cell dimensions [92.83178 92.83178 92.83178 90.      90.      90.     ] >\n",
      "< Timestep 16200 with unit cell dimensions [92.83178 92.83178 92.83178 90.      90.      90.     ] >\n",
      "< Timestep 16210 with unit cell dimensions [92.83178 92.83178 92.83178 90.      90.      90.     ] >\n",
      "< Timestep 16220 with unit cell dimensions [92.83178 92.83178 92.83178 90.      90.      90.     ] >\n",
      "< Timestep 16230 with unit cell dimensions [92.83178 92.83178 92.83178 90.      90.      90.     ] >\n",
      "< Timestep 16240 with unit cell dimensions [92.83178 92.83178 92.83178 90.      90.      90.     ] >\n",
      "< Timestep 16250 with unit cell dimensions [92.83178 92.83178 92.83178 90.      90.      90.     ] >\n",
      "< Timestep 16260 with unit cell dimensions [92.83178 92.83178 92.83178 90.      90.      90.     ] >\n",
      "< Timestep 16270 with unit cell dimensions [92.83178 92.83178 92.83178 90.      90.      90.     ] >\n",
      "< Timestep 16280 with unit cell dimensions [92.83178 92.83178 92.83178 90.      90.      90.     ] >\n",
      "< Timestep 16290 with unit cell dimensions [92.83178 92.83178 92.83178 90.      90.      90.     ] >\n",
      "< Timestep 16300 with unit cell dimensions [92.83178 92.83178 92.83178 90.      90.      90.     ] >\n",
      "< Timestep 16310 with unit cell dimensions [92.83178 92.83178 92.83178 90.      90.      90.     ] >\n",
      "< Timestep 16320 with unit cell dimensions [92.83178 92.83178 92.83178 90.      90.      90.     ] >\n",
      "< Timestep 16330 with unit cell dimensions [92.83178 92.83178 92.83178 90.      90.      90.     ] >\n",
      "< Timestep 16340 with unit cell dimensions [92.83178 92.83178 92.83178 90.      90.      90.     ] >\n",
      "< Timestep 16350 with unit cell dimensions [92.83178 92.83178 92.83178 90.      90.      90.     ] >\n",
      "< Timestep 16360 with unit cell dimensions [92.83178 92.83178 92.83178 90.      90.      90.     ] >\n",
      "< Timestep 16370 with unit cell dimensions [92.83178 92.83178 92.83178 90.      90.      90.     ] >\n"
     ]
    },
    {
     "name": "stdout",
     "output_type": "stream",
     "text": [
      "< Timestep 16380 with unit cell dimensions [92.83178 92.83178 92.83178 90.      90.      90.     ] >\n",
      "< Timestep 16390 with unit cell dimensions [92.83178 92.83178 92.83178 90.      90.      90.     ] >\n",
      "< Timestep 16400 with unit cell dimensions [92.83178 92.83178 92.83178 90.      90.      90.     ] >\n",
      "< Timestep 16410 with unit cell dimensions [92.83178 92.83178 92.83178 90.      90.      90.     ] >\n",
      "< Timestep 16420 with unit cell dimensions [92.83178 92.83178 92.83178 90.      90.      90.     ] >\n",
      "< Timestep 16430 with unit cell dimensions [92.83178 92.83178 92.83178 90.      90.      90.     ] >\n",
      "< Timestep 16440 with unit cell dimensions [92.83178 92.83178 92.83178 90.      90.      90.     ] >\n",
      "< Timestep 16450 with unit cell dimensions [92.83178 92.83178 92.83178 90.      90.      90.     ] >\n",
      "< Timestep 16460 with unit cell dimensions [92.83178 92.83178 92.83178 90.      90.      90.     ] >\n",
      "< Timestep 16470 with unit cell dimensions [92.83178 92.83178 92.83178 90.      90.      90.     ] >\n",
      "< Timestep 16480 with unit cell dimensions [92.83178 92.83178 92.83178 90.      90.      90.     ] >\n",
      "< Timestep 16490 with unit cell dimensions [92.83178 92.83178 92.83178 90.      90.      90.     ] >\n",
      "< Timestep 16500 with unit cell dimensions [92.83178 92.83178 92.83178 90.      90.      90.     ] >\n",
      "< Timestep 16510 with unit cell dimensions [92.83178 92.83178 92.83178 90.      90.      90.     ] >\n",
      "< Timestep 16520 with unit cell dimensions [92.83178 92.83178 92.83178 90.      90.      90.     ] >\n",
      "< Timestep 16530 with unit cell dimensions [92.83178 92.83178 92.83178 90.      90.      90.     ] >\n",
      "< Timestep 16540 with unit cell dimensions [92.83178 92.83178 92.83178 90.      90.      90.     ] >\n",
      "< Timestep 16550 with unit cell dimensions [92.83178 92.83178 92.83178 90.      90.      90.     ] >\n",
      "< Timestep 16560 with unit cell dimensions [92.83178 92.83178 92.83178 90.      90.      90.     ] >\n",
      "< Timestep 16570 with unit cell dimensions [92.83178 92.83178 92.83178 90.      90.      90.     ] >\n",
      "< Timestep 16580 with unit cell dimensions [92.83178 92.83178 92.83178 90.      90.      90.     ] >\n",
      "< Timestep 16590 with unit cell dimensions [92.83178 92.83178 92.83178 90.      90.      90.     ] >\n",
      "< Timestep 16600 with unit cell dimensions [92.83178 92.83178 92.83178 90.      90.      90.     ] >\n",
      "< Timestep 16610 with unit cell dimensions [92.83178 92.83178 92.83178 90.      90.      90.     ] >\n",
      "< Timestep 16620 with unit cell dimensions [92.83178 92.83178 92.83178 90.      90.      90.     ] >\n",
      "< Timestep 16630 with unit cell dimensions [92.83178 92.83178 92.83178 90.      90.      90.     ] >\n",
      "< Timestep 16640 with unit cell dimensions [92.83178 92.83178 92.83178 90.      90.      90.     ] >\n",
      "< Timestep 16650 with unit cell dimensions [92.83178 92.83178 92.83178 90.      90.      90.     ] >\n",
      "< Timestep 16660 with unit cell dimensions [92.83178 92.83178 92.83178 90.      90.      90.     ] >\n",
      "< Timestep 16670 with unit cell dimensions [92.83178 92.83178 92.83178 90.      90.      90.     ] >\n",
      "< Timestep 16680 with unit cell dimensions [92.83178 92.83178 92.83178 90.      90.      90.     ] >\n",
      "< Timestep 16690 with unit cell dimensions [92.83178 92.83178 92.83178 90.      90.      90.     ] >\n",
      "< Timestep 16700 with unit cell dimensions [92.83178 92.83178 92.83178 90.      90.      90.     ] >\n",
      "< Timestep 16710 with unit cell dimensions [92.83178 92.83178 92.83178 90.      90.      90.     ] >\n",
      "< Timestep 16720 with unit cell dimensions [92.83178 92.83178 92.83178 90.      90.      90.     ] >\n",
      "< Timestep 16730 with unit cell dimensions [92.83178 92.83178 92.83178 90.      90.      90.     ] >\n",
      "< Timestep 16740 with unit cell dimensions [92.83178 92.83178 92.83178 90.      90.      90.     ] >\n",
      "< Timestep 16750 with unit cell dimensions [92.83178 92.83178 92.83178 90.      90.      90.     ] >\n",
      "< Timestep 16760 with unit cell dimensions [92.83178 92.83178 92.83178 90.      90.      90.     ] >\n",
      "< Timestep 16770 with unit cell dimensions [92.83178 92.83178 92.83178 90.      90.      90.     ] >\n",
      "< Timestep 16780 with unit cell dimensions [92.83178 92.83178 92.83178 90.      90.      90.     ] >\n",
      "< Timestep 16790 with unit cell dimensions [92.83178 92.83178 92.83178 90.      90.      90.     ] >\n",
      "< Timestep 16800 with unit cell dimensions [92.83178 92.83178 92.83178 90.      90.      90.     ] >\n",
      "< Timestep 16810 with unit cell dimensions [92.83178 92.83178 92.83178 90.      90.      90.     ] >\n",
      "< Timestep 16820 with unit cell dimensions [92.83178 92.83178 92.83178 90.      90.      90.     ] >\n",
      "< Timestep 16830 with unit cell dimensions [92.83178 92.83178 92.83178 90.      90.      90.     ] >\n",
      "< Timestep 16840 with unit cell dimensions [92.83178 92.83178 92.83178 90.      90.      90.     ] >\n",
      "< Timestep 16850 with unit cell dimensions [92.83178 92.83178 92.83178 90.      90.      90.     ] >\n",
      "< Timestep 16860 with unit cell dimensions [92.83178 92.83178 92.83178 90.      90.      90.     ] >\n",
      "< Timestep 16870 with unit cell dimensions [92.83178 92.83178 92.83178 90.      90.      90.     ] >\n",
      "< Timestep 16880 with unit cell dimensions [92.83178 92.83178 92.83178 90.      90.      90.     ] >\n",
      "< Timestep 16890 with unit cell dimensions [92.83178 92.83178 92.83178 90.      90.      90.     ] >\n",
      "< Timestep 16900 with unit cell dimensions [92.83178 92.83178 92.83178 90.      90.      90.     ] >\n",
      "< Timestep 16910 with unit cell dimensions [92.83178 92.83178 92.83178 90.      90.      90.     ] >\n",
      "< Timestep 16920 with unit cell dimensions [92.83178 92.83178 92.83178 90.      90.      90.     ] >\n",
      "< Timestep 16930 with unit cell dimensions [92.83178 92.83178 92.83178 90.      90.      90.     ] >\n",
      "< Timestep 16940 with unit cell dimensions [92.83178 92.83178 92.83178 90.      90.      90.     ] >\n",
      "< Timestep 16950 with unit cell dimensions [92.83178 92.83178 92.83178 90.      90.      90.     ] >\n",
      "< Timestep 16960 with unit cell dimensions [92.83178 92.83178 92.83178 90.      90.      90.     ] >\n",
      "< Timestep 16970 with unit cell dimensions [92.83178 92.83178 92.83178 90.      90.      90.     ] >\n",
      "< Timestep 16980 with unit cell dimensions [92.83178 92.83178 92.83178 90.      90.      90.     ] >\n",
      "< Timestep 16990 with unit cell dimensions [92.83178 92.83178 92.83178 90.      90.      90.     ] >\n",
      "< Timestep 17000 with unit cell dimensions [92.83178 92.83178 92.83178 90.      90.      90.     ] >\n",
      "< Timestep 17010 with unit cell dimensions [92.83178 92.83178 92.83178 90.      90.      90.     ] >\n",
      "< Timestep 17020 with unit cell dimensions [92.83178 92.83178 92.83178 90.      90.      90.     ] >\n",
      "< Timestep 17030 with unit cell dimensions [92.83178 92.83178 92.83178 90.      90.      90.     ] >\n",
      "< Timestep 17040 with unit cell dimensions [92.83178 92.83178 92.83178 90.      90.      90.     ] >\n",
      "< Timestep 17050 with unit cell dimensions [92.83178 92.83178 92.83178 90.      90.      90.     ] >\n",
      "< Timestep 17060 with unit cell dimensions [92.83178 92.83178 92.83178 90.      90.      90.     ] >\n",
      "< Timestep 17070 with unit cell dimensions [92.83178 92.83178 92.83178 90.      90.      90.     ] >\n",
      "< Timestep 17080 with unit cell dimensions [92.83178 92.83178 92.83178 90.      90.      90.     ] >\n",
      "< Timestep 17090 with unit cell dimensions [92.83178 92.83178 92.83178 90.      90.      90.     ] >\n",
      "< Timestep 17100 with unit cell dimensions [92.83178 92.83178 92.83178 90.      90.      90.     ] >\n",
      "< Timestep 17110 with unit cell dimensions [92.83178 92.83178 92.83178 90.      90.      90.     ] >\n",
      "< Timestep 17120 with unit cell dimensions [92.83178 92.83178 92.83178 90.      90.      90.     ] >\n",
      "< Timestep 17130 with unit cell dimensions [92.83178 92.83178 92.83178 90.      90.      90.     ] >\n",
      "< Timestep 17140 with unit cell dimensions [92.83178 92.83178 92.83178 90.      90.      90.     ] >\n",
      "< Timestep 17150 with unit cell dimensions [92.83178 92.83178 92.83178 90.      90.      90.     ] >\n",
      "< Timestep 17160 with unit cell dimensions [92.83178 92.83178 92.83178 90.      90.      90.     ] >\n",
      "< Timestep 17170 with unit cell dimensions [92.83178 92.83178 92.83178 90.      90.      90.     ] >\n",
      "< Timestep 17180 with unit cell dimensions [92.83178 92.83178 92.83178 90.      90.      90.     ] >\n",
      "< Timestep 17190 with unit cell dimensions [92.83178 92.83178 92.83178 90.      90.      90.     ] >\n"
     ]
    },
    {
     "name": "stdout",
     "output_type": "stream",
     "text": [
      "< Timestep 17200 with unit cell dimensions [92.83178 92.83178 92.83178 90.      90.      90.     ] >\n",
      "< Timestep 17210 with unit cell dimensions [92.83178 92.83178 92.83178 90.      90.      90.     ] >\n",
      "< Timestep 17220 with unit cell dimensions [92.83178 92.83178 92.83178 90.      90.      90.     ] >\n",
      "< Timestep 17230 with unit cell dimensions [92.83178 92.83178 92.83178 90.      90.      90.     ] >\n",
      "< Timestep 17240 with unit cell dimensions [92.83178 92.83178 92.83178 90.      90.      90.     ] >\n",
      "< Timestep 17250 with unit cell dimensions [92.83178 92.83178 92.83178 90.      90.      90.     ] >\n",
      "< Timestep 17260 with unit cell dimensions [92.83178 92.83178 92.83178 90.      90.      90.     ] >\n",
      "< Timestep 17270 with unit cell dimensions [92.83178 92.83178 92.83178 90.      90.      90.     ] >\n",
      "< Timestep 17280 with unit cell dimensions [92.83178 92.83178 92.83178 90.      90.      90.     ] >\n",
      "< Timestep 17290 with unit cell dimensions [92.83178 92.83178 92.83178 90.      90.      90.     ] >\n",
      "< Timestep 17300 with unit cell dimensions [92.83178 92.83178 92.83178 90.      90.      90.     ] >\n",
      "< Timestep 17310 with unit cell dimensions [92.83178 92.83178 92.83178 90.      90.      90.     ] >\n",
      "< Timestep 17320 with unit cell dimensions [92.83178 92.83178 92.83178 90.      90.      90.     ] >\n",
      "< Timestep 17330 with unit cell dimensions [92.83178 92.83178 92.83178 90.      90.      90.     ] >\n",
      "< Timestep 17340 with unit cell dimensions [92.83178 92.83178 92.83178 90.      90.      90.     ] >\n",
      "< Timestep 17350 with unit cell dimensions [92.83178 92.83178 92.83178 90.      90.      90.     ] >\n",
      "< Timestep 17360 with unit cell dimensions [92.83178 92.83178 92.83178 90.      90.      90.     ] >\n",
      "< Timestep 17370 with unit cell dimensions [92.83178 92.83178 92.83178 90.      90.      90.     ] >\n",
      "< Timestep 17380 with unit cell dimensions [92.83178 92.83178 92.83178 90.      90.      90.     ] >\n",
      "< Timestep 17390 with unit cell dimensions [92.83178 92.83178 92.83178 90.      90.      90.     ] >\n",
      "< Timestep 17400 with unit cell dimensions [92.83178 92.83178 92.83178 90.      90.      90.     ] >\n",
      "< Timestep 17410 with unit cell dimensions [92.83178 92.83178 92.83178 90.      90.      90.     ] >\n",
      "< Timestep 17420 with unit cell dimensions [92.83178 92.83178 92.83178 90.      90.      90.     ] >\n",
      "< Timestep 17430 with unit cell dimensions [92.83178 92.83178 92.83178 90.      90.      90.     ] >\n",
      "< Timestep 17440 with unit cell dimensions [92.83178 92.83178 92.83178 90.      90.      90.     ] >\n",
      "< Timestep 17450 with unit cell dimensions [92.83178 92.83178 92.83178 90.      90.      90.     ] >\n",
      "< Timestep 17460 with unit cell dimensions [92.83178 92.83178 92.83178 90.      90.      90.     ] >\n",
      "< Timestep 17470 with unit cell dimensions [92.83178 92.83178 92.83178 90.      90.      90.     ] >\n",
      "< Timestep 17480 with unit cell dimensions [92.83178 92.83178 92.83178 90.      90.      90.     ] >\n",
      "< Timestep 17490 with unit cell dimensions [92.83178 92.83178 92.83178 90.      90.      90.     ] >\n",
      "< Timestep 17500 with unit cell dimensions [92.83178 92.83178 92.83178 90.      90.      90.     ] >\n",
      "< Timestep 17510 with unit cell dimensions [92.83178 92.83178 92.83178 90.      90.      90.     ] >\n",
      "< Timestep 17520 with unit cell dimensions [92.83178 92.83178 92.83178 90.      90.      90.     ] >\n",
      "< Timestep 17530 with unit cell dimensions [92.83178 92.83178 92.83178 90.      90.      90.     ] >\n",
      "< Timestep 17540 with unit cell dimensions [92.83178 92.83178 92.83178 90.      90.      90.     ] >\n",
      "< Timestep 17550 with unit cell dimensions [92.83178 92.83178 92.83178 90.      90.      90.     ] >\n",
      "< Timestep 17560 with unit cell dimensions [92.83178 92.83178 92.83178 90.      90.      90.     ] >\n",
      "< Timestep 17570 with unit cell dimensions [92.83178 92.83178 92.83178 90.      90.      90.     ] >\n",
      "< Timestep 17580 with unit cell dimensions [92.83178 92.83178 92.83178 90.      90.      90.     ] >\n",
      "< Timestep 17590 with unit cell dimensions [92.83178 92.83178 92.83178 90.      90.      90.     ] >\n",
      "< Timestep 17600 with unit cell dimensions [92.83178 92.83178 92.83178 90.      90.      90.     ] >\n",
      "< Timestep 17610 with unit cell dimensions [92.83178 92.83178 92.83178 90.      90.      90.     ] >\n",
      "< Timestep 17620 with unit cell dimensions [92.83178 92.83178 92.83178 90.      90.      90.     ] >\n",
      "< Timestep 17630 with unit cell dimensions [92.83178 92.83178 92.83178 90.      90.      90.     ] >\n",
      "< Timestep 17640 with unit cell dimensions [92.83178 92.83178 92.83178 90.      90.      90.     ] >\n",
      "< Timestep 17650 with unit cell dimensions [92.83178 92.83178 92.83178 90.      90.      90.     ] >\n",
      "< Timestep 17660 with unit cell dimensions [92.83178 92.83178 92.83178 90.      90.      90.     ] >\n",
      "< Timestep 17670 with unit cell dimensions [92.83178 92.83178 92.83178 90.      90.      90.     ] >\n",
      "< Timestep 17680 with unit cell dimensions [92.83178 92.83178 92.83178 90.      90.      90.     ] >\n",
      "< Timestep 17690 with unit cell dimensions [92.83178 92.83178 92.83178 90.      90.      90.     ] >\n",
      "< Timestep 17700 with unit cell dimensions [92.83178 92.83178 92.83178 90.      90.      90.     ] >\n",
      "< Timestep 17710 with unit cell dimensions [92.83178 92.83178 92.83178 90.      90.      90.     ] >\n",
      "< Timestep 17720 with unit cell dimensions [92.83178 92.83178 92.83178 90.      90.      90.     ] >\n",
      "< Timestep 17730 with unit cell dimensions [92.83178 92.83178 92.83178 90.      90.      90.     ] >\n",
      "< Timestep 17740 with unit cell dimensions [92.83178 92.83178 92.83178 90.      90.      90.     ] >\n",
      "< Timestep 17750 with unit cell dimensions [92.83178 92.83178 92.83178 90.      90.      90.     ] >\n",
      "< Timestep 17760 with unit cell dimensions [92.83178 92.83178 92.83178 90.      90.      90.     ] >\n",
      "< Timestep 17770 with unit cell dimensions [92.83178 92.83178 92.83178 90.      90.      90.     ] >\n",
      "< Timestep 17780 with unit cell dimensions [92.83178 92.83178 92.83178 90.      90.      90.     ] >\n",
      "< Timestep 17790 with unit cell dimensions [92.83178 92.83178 92.83178 90.      90.      90.     ] >\n",
      "< Timestep 17800 with unit cell dimensions [92.83178 92.83178 92.83178 90.      90.      90.     ] >\n",
      "< Timestep 17810 with unit cell dimensions [92.83178 92.83178 92.83178 90.      90.      90.     ] >\n",
      "< Timestep 17820 with unit cell dimensions [92.83178 92.83178 92.83178 90.      90.      90.     ] >\n",
      "< Timestep 17830 with unit cell dimensions [92.83178 92.83178 92.83178 90.      90.      90.     ] >\n",
      "< Timestep 17840 with unit cell dimensions [92.83178 92.83178 92.83178 90.      90.      90.     ] >\n",
      "< Timestep 17850 with unit cell dimensions [92.83178 92.83178 92.83178 90.      90.      90.     ] >\n",
      "< Timestep 17860 with unit cell dimensions [92.83178 92.83178 92.83178 90.      90.      90.     ] >\n",
      "< Timestep 17870 with unit cell dimensions [92.83178 92.83178 92.83178 90.      90.      90.     ] >\n",
      "< Timestep 17880 with unit cell dimensions [92.83178 92.83178 92.83178 90.      90.      90.     ] >\n",
      "< Timestep 17890 with unit cell dimensions [92.83178 92.83178 92.83178 90.      90.      90.     ] >\n",
      "< Timestep 17900 with unit cell dimensions [92.83178 92.83178 92.83178 90.      90.      90.     ] >\n",
      "< Timestep 17910 with unit cell dimensions [92.83178 92.83178 92.83178 90.      90.      90.     ] >\n",
      "< Timestep 17920 with unit cell dimensions [92.83178 92.83178 92.83178 90.      90.      90.     ] >\n",
      "< Timestep 17930 with unit cell dimensions [92.83178 92.83178 92.83178 90.      90.      90.     ] >\n",
      "< Timestep 17940 with unit cell dimensions [92.83178 92.83178 92.83178 90.      90.      90.     ] >\n",
      "< Timestep 17950 with unit cell dimensions [92.83178 92.83178 92.83178 90.      90.      90.     ] >\n",
      "< Timestep 17960 with unit cell dimensions [92.83178 92.83178 92.83178 90.      90.      90.     ] >\n",
      "< Timestep 17970 with unit cell dimensions [92.83178 92.83178 92.83178 90.      90.      90.     ] >\n",
      "< Timestep 17980 with unit cell dimensions [92.83178 92.83178 92.83178 90.      90.      90.     ] >\n",
      "< Timestep 17990 with unit cell dimensions [92.83178 92.83178 92.83178 90.      90.      90.     ] >\n",
      "< Timestep 18000 with unit cell dimensions [92.83178 92.83178 92.83178 90.      90.      90.     ] >\n",
      "< Timestep 18010 with unit cell dimensions [92.83178 92.83178 92.83178 90.      90.      90.     ] >\n",
      "< Timestep 18020 with unit cell dimensions [92.83178 92.83178 92.83178 90.      90.      90.     ] >\n",
      "< Timestep 18030 with unit cell dimensions [92.83178 92.83178 92.83178 90.      90.      90.     ] >\n",
      "< Timestep 18040 with unit cell dimensions [92.83178 92.83178 92.83178 90.      90.      90.     ] >\n",
      "< Timestep 18050 with unit cell dimensions [92.83178 92.83178 92.83178 90.      90.      90.     ] >\n"
     ]
    },
    {
     "name": "stdout",
     "output_type": "stream",
     "text": [
      "< Timestep 18060 with unit cell dimensions [92.83178 92.83178 92.83178 90.      90.      90.     ] >\n",
      "< Timestep 18070 with unit cell dimensions [92.83178 92.83178 92.83178 90.      90.      90.     ] >\n",
      "< Timestep 18080 with unit cell dimensions [92.83178 92.83178 92.83178 90.      90.      90.     ] >\n",
      "< Timestep 18090 with unit cell dimensions [92.83178 92.83178 92.83178 90.      90.      90.     ] >\n",
      "< Timestep 18100 with unit cell dimensions [92.83178 92.83178 92.83178 90.      90.      90.     ] >\n",
      "< Timestep 18110 with unit cell dimensions [92.83178 92.83178 92.83178 90.      90.      90.     ] >\n",
      "< Timestep 18120 with unit cell dimensions [92.83178 92.83178 92.83178 90.      90.      90.     ] >\n",
      "< Timestep 18130 with unit cell dimensions [92.83178 92.83178 92.83178 90.      90.      90.     ] >\n",
      "< Timestep 18140 with unit cell dimensions [92.83178 92.83178 92.83178 90.      90.      90.     ] >\n",
      "< Timestep 18150 with unit cell dimensions [92.83178 92.83178 92.83178 90.      90.      90.     ] >\n",
      "< Timestep 18160 with unit cell dimensions [92.83178 92.83178 92.83178 90.      90.      90.     ] >\n",
      "< Timestep 18170 with unit cell dimensions [92.83178 92.83178 92.83178 90.      90.      90.     ] >\n",
      "< Timestep 18180 with unit cell dimensions [92.83178 92.83178 92.83178 90.      90.      90.     ] >\n",
      "< Timestep 18190 with unit cell dimensions [92.83178 92.83178 92.83178 90.      90.      90.     ] >\n",
      "< Timestep 18200 with unit cell dimensions [92.83178 92.83178 92.83178 90.      90.      90.     ] >\n",
      "< Timestep 18210 with unit cell dimensions [92.83178 92.83178 92.83178 90.      90.      90.     ] >\n",
      "< Timestep 18220 with unit cell dimensions [92.83178 92.83178 92.83178 90.      90.      90.     ] >\n",
      "< Timestep 18230 with unit cell dimensions [92.83178 92.83178 92.83178 90.      90.      90.     ] >\n",
      "< Timestep 18240 with unit cell dimensions [92.83178 92.83178 92.83178 90.      90.      90.     ] >\n",
      "< Timestep 18250 with unit cell dimensions [92.83178 92.83178 92.83178 90.      90.      90.     ] >\n",
      "< Timestep 18260 with unit cell dimensions [92.83178 92.83178 92.83178 90.      90.      90.     ] >\n",
      "< Timestep 18270 with unit cell dimensions [92.83178 92.83178 92.83178 90.      90.      90.     ] >\n",
      "< Timestep 18280 with unit cell dimensions [92.83178 92.83178 92.83178 90.      90.      90.     ] >\n",
      "< Timestep 18290 with unit cell dimensions [92.83178 92.83178 92.83178 90.      90.      90.     ] >\n",
      "< Timestep 18300 with unit cell dimensions [92.83178 92.83178 92.83178 90.      90.      90.     ] >\n",
      "< Timestep 18310 with unit cell dimensions [92.83178 92.83178 92.83178 90.      90.      90.     ] >\n",
      "< Timestep 18320 with unit cell dimensions [92.83178 92.83178 92.83178 90.      90.      90.     ] >\n",
      "< Timestep 18330 with unit cell dimensions [92.83178 92.83178 92.83178 90.      90.      90.     ] >\n",
      "< Timestep 18340 with unit cell dimensions [92.83178 92.83178 92.83178 90.      90.      90.     ] >\n",
      "< Timestep 18350 with unit cell dimensions [92.83178 92.83178 92.83178 90.      90.      90.     ] >\n",
      "< Timestep 18360 with unit cell dimensions [92.83178 92.83178 92.83178 90.      90.      90.     ] >\n",
      "< Timestep 18370 with unit cell dimensions [92.83178 92.83178 92.83178 90.      90.      90.     ] >\n",
      "< Timestep 18380 with unit cell dimensions [92.83178 92.83178 92.83178 90.      90.      90.     ] >\n",
      "< Timestep 18390 with unit cell dimensions [92.83178 92.83178 92.83178 90.      90.      90.     ] >\n",
      "< Timestep 18400 with unit cell dimensions [92.83178 92.83178 92.83178 90.      90.      90.     ] >\n",
      "< Timestep 18410 with unit cell dimensions [92.83178 92.83178 92.83178 90.      90.      90.     ] >\n",
      "< Timestep 18420 with unit cell dimensions [92.83178 92.83178 92.83178 90.      90.      90.     ] >\n",
      "< Timestep 18430 with unit cell dimensions [92.83178 92.83178 92.83178 90.      90.      90.     ] >\n",
      "< Timestep 18440 with unit cell dimensions [92.83178 92.83178 92.83178 90.      90.      90.     ] >\n",
      "< Timestep 18450 with unit cell dimensions [92.83178 92.83178 92.83178 90.      90.      90.     ] >\n",
      "< Timestep 18460 with unit cell dimensions [92.83178 92.83178 92.83178 90.      90.      90.     ] >\n",
      "< Timestep 18470 with unit cell dimensions [92.83178 92.83178 92.83178 90.      90.      90.     ] >\n",
      "< Timestep 18480 with unit cell dimensions [92.83178 92.83178 92.83178 90.      90.      90.     ] >\n",
      "< Timestep 18490 with unit cell dimensions [92.83178 92.83178 92.83178 90.      90.      90.     ] >\n"
     ]
    }
   ],
   "source": [
    "# Loop through the xyz frames\n",
    "for ts in u.trajectory[bin_t0:bin_tf:10]:\n",
    "    \n",
    "    if ts.frame%10 == 0:\n",
    "        print(ts)\n",
    "\n",
    "    # BOX DIMENSIONS\n",
    "    ts.dimensions = [lx, lx, lx, 90, 90, 90 ] \n",
    "    \n",
    "    \n",
    "    #============== IDENTIFY ALL OF THE CLUSTERS ===============\n",
    "    \n",
    "    # Generate the adjacancy matrix\n",
    "    adjmatrix = contact_matrix(particles.positions, cutoff=trunc_distance, returntype='numpy', box=ts.dimensions)\n",
    "\n",
    "    # Generate a graph from the adjacency matrix\n",
    "    Graph = nx.Graph(adjmatrix)  \n",
    "    \n",
    "    # Size of connected components in the graph\n",
    "    cluster_sizes = [len(c) for c in sorted(nx.connected_components(Graph), key=len, reverse=True)]\n",
    "    \n",
    "     # Largest nucleus\n",
    "    largest_cluster_size = cluster_sizes[0]      \n",
    "    \n",
    "    # List of nodes in every connected component\n",
    "    cluster_members = [c for c in sorted(nx.connected_components(Graph), key=len, reverse=True)]\n",
    "    \n",
    "    # Number of nuclei connected components\n",
    "    number_of_clusters = len(cluster_sizes)     \n",
    "    \n",
    "    \n",
    "    #============== ANALYSE THE LARGEST CLUSTER ===============\n",
    "    \n",
    "    # PROPERTIES OF THE CRYSTAL\n",
    "    # Get the components of the largest cluster\n",
    "    largest_cluster_indices = list(cluster_members[0])\n",
    "    crystal = u.atoms[(particles.indices[largest_cluster_indices])]\n",
    "\n",
    "    # Build a new graph\n",
    "    adjmatrix_crystal = contact_matrix(crystal.positions, cutoff=trunc_distance, returntype='numpy', box=ts.dimensions)\n",
    "    Graph_crystal = nx.Graph(adjmatrix_crystal)     \n",
    "    \n",
    "    # Depth first search for connected nodes\n",
    "    T = nx.dfs_tree(Graph_crystal, source=0)\n",
    "    E = list(T.edges())\n",
    "        \n",
    "    # Reconstruct the droplet across boundaries\n",
    "    pos = crystal.positions\n",
    "    for i in range(0,len(E)):   \n",
    "        v = pos[E[i][1]] - pos[E[i][0]]\n",
    "        pos[E[i][1]] = pos[E[i][0]] + minimum_image(v,ts.dimensions[0:3])            \n",
    "    \n",
    "    # Droplet centre of mass\n",
    "    crystal.masses = 1\n",
    "    com = centre_of_mass(pos,crystal.masses)\n",
    "    \n",
    "    # Calculate the gyration tensor\n",
    "    gyration_tensor = calculate_gyration_tensor(pos - com)\n",
    "\n",
    "    eVals,eVecs = eig(gyration_tensor)    # Diagonalise\n",
    "    eVals = eVals.real\n",
    "    eVals = np.sort(eVals)\n",
    "\n",
    "    crystal_rgyr = np.sum(eVals)**0.5                                 # Radius of gyration\n",
    "    crystal_asph = 3/2*eVals[2] - crystal_rgyr**2/2                   # Asphericity\n",
    "    #droplet_acyl = eVals[1] - eVals[0]                                # Acylindricity\n",
    "    #droplet_kapa = 3/2 * (np.sum(eVals**2)/np.sum(eVals)**2) - 0.5    # Relative shape anisotropy\n",
    "       \n",
    "    # Droplet density profile\n",
    "    parr = pos[crystal.types == '1']\n",
    "    for i in range(0,largest_cluster_size):\n",
    "        v = parr[i] - com\n",
    "        d = np.sqrt(np.dot(v,v))/delta\n",
    "        rad_dist_cryst[d.astype(int)] +=1\n",
    "    \n",
    "    \n",
    "    #============== ANALYSE THE VAPOUR PHASE ===============    \n",
    "\n",
    "    # DENSITIES OF THE PHASES\n",
    "    vapourdensity = (num_particles - largest_cluster_size) / (Vol - crystal_rgyr**3)\n",
    "    \n",
    "    \n",
    "    \n",
    "    #============== RECORD THE PROPERTIES ===============       \n",
    "    time.append(ts.time*tdelta)\n",
    "    ncls.append(number_of_clusters)\n",
    "    clsz.extend(cluster_sizes)\n",
    "    csiz.append(largest_cluster_size)\n",
    "    crgy.append(crystal_rgyr)\n",
    "    casp.append(crystal_asph)\n",
    "    vden.append(vapourdensity)\n",
    "    \n",
    "    frames += 1"
   ]
  },
  {
   "cell_type": "markdown",
   "metadata": {},
   "source": [
    "## Plot the time series"
   ]
  },
  {
   "cell_type": "code",
   "execution_count": 569,
   "metadata": {},
   "outputs": [
    {
     "data": {
      "image/png": "[encoded data removed]",
      "text/plain": [
       "<Figure size 720x720 with 4 Axes>"
      ]
     },
     "metadata": {
      "needs_background": "light"
     },
     "output_type": "display_data"
    }
   ],
   "source": [
    "fig, [[ax0, ax1], [ax2, ax3]] = plt.subplots(nrows=2, ncols=2, sharex=True,figsize=(10,10))  \n",
    "\n",
    "# Droplet size\n",
    "#ax0.set_xlim([intzmin+1.5,intzmax-0.1])\n",
    "#ax0.set_ylim([0,2.5])\n",
    "ax0.title.set_text('Crystal size')\n",
    "ax0.set_ylabel(\"$N$ ions\")\n",
    "ax0.plot(time,csiz,'k-',linewidth=1)\n",
    "\n",
    "# Radius of gyration\n",
    "#ax1.set_xlim([intzmin,intzmax-0.1])\n",
    "#ax1.set_ylim([0,1.05])\n",
    "ax1.title.set_text('Crystal radius of gyration')\n",
    "ax1.set_ylabel(\"nm\")\n",
    "ax1.plot(time,crgy,'k-',linewidth=1)\n",
    "\n",
    "# Number of clusters\n",
    "#ax2.set_xlim([intzmin,intzmax-0.1])\n",
    "#ax2.set_ylim([0,2.5])\n",
    "ax2.title.set_text('Number of clusters')\n",
    "ax2.set_ylabel(\"\")\n",
    "ax2.plot(time,ncls,'k-',linewidth=1)\n",
    "\n",
    "# Vapour phase density\n",
    "#ax3.set_xlim([intzmin,intzmax-0.1])\n",
    "#ax3.set_ylim([0,2.5])\n",
    "ax3.title.set_text('Vapour phase density')\n",
    "ax3.set_ylabel(\"\")\n",
    "ax3.plot(time,vden,'k-',linewidth=1)\n",
    "\n",
    "plt.savefig(wdir+'crystal_timeseries.png',dpi=100)"
   ]
  },
  {
   "cell_type": "markdown",
   "metadata": {},
   "source": [
    "## Density of the Crystal"
   ]
  },
  {
   "cell_type": "code",
   "execution_count": 570,
   "metadata": {},
   "outputs": [],
   "source": [
    "binp = np.arange(0,nbins)*delta\n",
    "\n",
    "dV = 4/3*constants.pi * ((binp+delta)**3-binp**3)\n",
    "rad_cryst= (rad_dist_cryst / frames) / dV "
   ]
  },
  {
   "cell_type": "code",
   "execution_count": 575,
   "metadata": {},
   "outputs": [
    {
     "data": {
      "text/plain": [
       "Text(0, 0.5, 'Reduced density')"
      ]
     },
     "execution_count": 575,
     "metadata": {},
     "output_type": "execute_result"
    },
    {
     "data": {
      "image/png": "[encoded data removed]",
      "text/plain": [
       "<Figure size 360x288 with 1 Axes>"
      ]
     },
     "metadata": {
      "needs_background": "light"
     },
     "output_type": "display_data"
    }
   ],
   "source": [
    "w0 = 4\n",
    "w1 = 25\n",
    "\n",
    "binp = binp + delta/2\n",
    "plt.xlim(0,50)\n",
    "#plt.ylim(0,65)\n",
    "plt.plot(binp,rad_cryst,'-')\n",
    "plt.plot(binp[w0:w1],rad_cryst[w0:w1],'-')\n",
    "plt.xlabel(\"Distance from CoM\")\n",
    "plt.ylabel(\"Reduced density\")"
   ]
  },
  {
   "cell_type": "code",
   "execution_count": 576,
   "metadata": {},
   "outputs": [
    {
     "name": "stdout",
     "output_type": "stream",
     "text": [
      "0.0004849999948630937\n",
      "0.006098880471376691 0.0003817481616728437\n",
      "0.0002745066406037564 2.9279740844548206e-05\n",
      " \n",
      "12.575011414378034\n",
      "0.5659930794045562\n"
     ]
    }
   ],
   "source": [
    "with open(wdir+'cryst-dens.txt', 'w') as f:\n",
    "    \n",
    "    f.write(str(uniform_density) + '\\n')\n",
    "    f.write(str(np.mean(rad_cryst[w0:w1])) + '  ' + str(np.std(rad_cryst[w0:w1])) + '\\n') # droplet mean desnsity\n",
    "    f.write(str(np.mean(vden)) + '  ' + str(np.std(vden)) + '\\n')\n",
    "\n",
    "print(uniform_density)\n",
    "print(np.mean(rad_cryst[w0:w1]),np.std(rad_cryst[w0:w1])) # droplet mean desnsity\n",
    "print(np.mean(vden),np.std(vden)) # vapour density\n",
    "print(\" \")\n",
    "print(np.mean(rad_cryst[w0:w1])/uniform_density) # droplet mean desnsity\n",
    "print(np.mean(vden)/uniform_density) # vapour density"
   ]
  },
  {
   "cell_type": "code",
   "execution_count": 577,
   "metadata": {},
   "outputs": [
    {
     "data": {
      "text/plain": [
       "<ErrorbarContainer object of 3 artists>"
      ]
     },
     "execution_count": 577,
     "metadata": {},
     "output_type": "execute_result"
    },
    {
     "data": {
      "image/png": "[encoded data removed]",
      "text/plain": [
       "<Figure size 360x288 with 1 Axes>"
      ]
     },
     "metadata": {
      "needs_background": "light"
     },
     "output_type": "display_data"
    }
   ],
   "source": [
    "plt.plot([0,4],[uniform_density,uniform_density])\n",
    "plt.plot(1,np.mean(rad_drop[w0:w1]),'o')\n",
    "plt.errorbar(1,np.mean(rad_drop[w0:w1]),yerr=np.std(rad_drop[w0:w1]))\n",
    "plt.plot(2,np.mean(rad_cryst[w0:w1]),'o')\n",
    "plt.errorbar(1,np.mean(rad_cryst[w0:w1]),yerr=np.std(rad_drop[w0:w1]))\n",
    "plt.plot(3,np.mean(vden),'o')\n",
    "plt.errorbar(3,np.mean(vden),yerr=np.std(rad_drop[w0:w1]))"
   ]
  },
  {
   "cell_type": "code",
   "execution_count": null,
   "metadata": {},
   "outputs": [],
   "source": []
  }
 ],
 "metadata": {
  "kernelspec": {
   "display_name": "Python 3",
   "language": "python",
   "name": "python3"
  },
  "language_info": {
   "codemirror_mode": {
    "name": "ipython",
    "version": 3
   },
   "file_extension": ".py",
   "mimetype": "text/x-python",
   "name": "python",
   "nbconvert_exporter": "python",
   "pygments_lexer": "ipython3",
   "version": "3.7.3"
  }
 },
 "nbformat": 4,
 "nbformat_minor": 4
}
